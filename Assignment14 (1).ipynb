{
 "cells": [
  {
   "cell_type": "raw",
   "id": "211ccb9c-b559-4299-905a-2679cb30848b",
   "metadata": {},
   "source": [
    "1. What does RGBA stand for?"
   ]
  },
  {
   "cell_type": "markdown",
   "id": "3a263332-a7c5-4535-9b2d-061138685272",
   "metadata": {},
   "source": [
    "Ans.\n",
    "RGBA(Red-Green-Blue-Alpha)\n",
    "The RGB color model is extended in this specification to include “alpha” to allow specification of the opacity of a color."
   ]
  },
  {
   "cell_type": "raw",
   "id": "9afb4304-15e7-47e1-b98e-2c72c833dc07",
   "metadata": {},
   "source": [
    "2. From the Pillow module, how do you get the RGBA value of any images?"
   ]
  },
  {
   "cell_type": "markdown",
   "id": "2a30df20-3a33-45ef-b7c1-c12df1634cf5",
   "metadata": {},
   "source": [
    "Ans.\n",
    "Pillow offers the ImageColor. getcolor() function so you don't have to memorize RGBA values for the colors you want to use. This function takes a color name string as its first argument, and the string 'RGBA' as its second argument, and it returns an RGBA tuple."
   ]
  },
  {
   "cell_type": "raw",
   "id": "d47496e8-4433-44c7-8ee0-c313c8399ba5",
   "metadata": {},
   "source": [
    "3. What is a box tuple, and how does it work?"
   ]
  },
  {
   "cell_type": "markdown",
   "id": "c19a7af6-11f2-46fb-84d6-73d498894365",
   "metadata": {},
   "source": [
    "Ans.\n",
    "The box. tuple submodule provides read-only access for the tuple userdata type. It allows, for a single tuple: selective retrieval of the field contents, retrieval of information about size, iteration over all the fields, and conversion to a Lua table."
   ]
  },
  {
   "cell_type": "raw",
   "id": "892a0af9-9485-4fd9-aa94-3e9da57e4362",
   "metadata": {},
   "source": [
    "4. Use your image and load in notebook then, How can you find out the width and height of an\n",
    "Image object?"
   ]
  },
  {
   "cell_type": "raw",
   "id": "452359ef-3bd4-4f91-8665-80185b678407",
   "metadata": {},
   "source": [
    "from google.colab import files\n",
    "uploaded = files.upload()"
   ]
  },
  {
   "cell_type": "markdown",
   "id": "0082ccb7-7c3f-4154-9e5f-828a5d707489",
   "metadata": {},
   "source": [
    "Upload widget is only available when the cell has been executed in the current browser session. Please rerun this cell to enable.\n",
    "Saving shiva.jpg to shiva.jpg"
   ]
  },
  {
   "cell_type": "raw",
   "id": "acce0bc3-c8d0-4511-8bbb-980b7419d378",
   "metadata": {},
   "source": [
    "from PIL import Image\n",
    "myImg = Image.open('file.jph')\n",
    "w,h = myImg.size\n",
    "w,h"
   ]
  },
  {
   "cell_type": "raw",
   "id": "4e3827d8-d731-4d22-a86d-d4f763a9a0e1",
   "metadata": {},
   "source": [
    "5. What method would you call to get Image object for a 100×100 image, excluding the lower-left\n",
    "quarter of it?"
   ]
  },
  {
   "cell_type": "markdown",
   "id": "1c9060ec-5b6a-4997-b7cd-95c2ba74694b",
   "metadata": {},
   "source": [
    "Ans. ImageObject.crop((0, 50, 50, 50))"
   ]
  },
  {
   "cell_type": "raw",
   "id": "514dc20d-d121-4496-895b-f4eb5a9141d4",
   "metadata": {},
   "source": [
    "6. After making changes to an Image object, how could you save it as an image file?"
   ]
  },
  {
   "cell_type": "markdown",
   "id": "f71165a5-b742-4420-a748-cdaf062a14cb",
   "metadata": {},
   "source": [
    "Ans.\n",
    "By Calling the imageObj.save('new_filename.png') method of the Image object."
   ]
  },
  {
   "cell_type": "raw",
   "id": "09243933-d4dd-4549-823c-00006429d4a5",
   "metadata": {},
   "source": [
    "7. What module contains Pillow’s shape-drawing code?"
   ]
  },
  {
   "cell_type": "markdown",
   "id": "93c43dd7-f012-4e00-8e01-55227cca83e0",
   "metadata": {},
   "source": [
    "Ans. \n",
    "The ImageDraw module contains code to draw on images"
   ]
  },
  {
   "cell_type": "raw",
   "id": "9ac1f170-7070-4070-a2ae-e808bd45f8d7",
   "metadata": {},
   "source": [
    "Q. Image objects do not have drawing methods. What kind of object does? How do you get this kind of object?"
   ]
  },
  {
   "cell_type": "markdown",
   "id": "137bf877-c080-4f6e-a9b7-8351ab80f74c",
   "metadata": {},
   "source": [
    "Ans. ImageDraw objects have shape-drawing methods such as point(), line(), or rectangle(). They are returned by passing the Image object to the ImageDraw.Draw() function"
   ]
  }
 ],
 "metadata": {
  "kernelspec": {
   "display_name": "Python 3 (ipykernel)",
   "language": "python",
   "name": "python3"
  },
  "language_info": {
   "codemirror_mode": {
    "name": "ipython",
    "version": 3
   },
   "file_extension": ".py",
   "mimetype": "text/x-python",
   "name": "python",
   "nbconvert_exporter": "python",
   "pygments_lexer": "ipython3",
   "version": "3.10.6"
  }
 },
 "nbformat": 4,
 "nbformat_minor": 5
}

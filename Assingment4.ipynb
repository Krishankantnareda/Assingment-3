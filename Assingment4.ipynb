{
 "cells": [
  {
   "cell_type": "raw",
   "id": "07e8f229-d39b-452e-936a-ee754c853a06",
   "metadata": {},
   "source": [
    "1. What exactly is []?"
   ]
  },
  {
   "cell_type": "markdown",
   "id": "08956b12-b647-453d-97ff-b608b6054910",
   "metadata": {},
   "source": [
    "Ans1. \n",
    "in python [] this bracess mean's list, Lists are one of 4 built-in data types in Python used to store collections of data like string , int , float, complex values\n",
    "right now this is an empty list"
   ]
  },
  {
   "cell_type": "raw",
   "id": "62aa9365-68cf-4c6a-88bc-39eb2facd07d",
   "metadata": {},
   "source": [
    "2. In a list of values stored in a variable called spam, how would you assign the value &#39;hello&#39; as the\n",
    "third value? (Assume [2, 4, 6, 8, 10] are in spam.)"
   ]
  },
  {
   "cell_type": "code",
   "execution_count": 13,
   "id": "08f0915e-abfc-4007-96a5-1c964a81a525",
   "metadata": {},
   "outputs": [
    {
     "data": {
      "text/plain": [
       "[2, 4, 6, '&#39;hello&#39;', 10]"
      ]
     },
     "execution_count": 13,
     "metadata": {},
     "output_type": "execute_result"
    }
   ],
   "source": [
    "spam = [2, 4, 6, 8, 10]\n",
    "spam[3] = \"&#39;hello&#39;\"\n",
    "spam"
   ]
  },
  {
   "cell_type": "raw",
   "id": "d39eab9e-0c95-4efb-8ca9-45dde928ecc1",
   "metadata": {},
   "source": [
    "3. What is the value of spam[int(int(&#39;3&#39; * 2) / 11)]?"
   ]
  },
  {
   "cell_type": "code",
   "execution_count": 19,
   "id": "4d8fad96-aa11-4f20-886f-6417e500d70c",
   "metadata": {},
   "outputs": [],
   "source": [
    "spam = [\"a\" , \"b\" ,\"c\" , \"d\"]"
   ]
  },
  {
   "cell_type": "code",
   "execution_count": 20,
   "id": "ca9507cd-2902-4815-aeff-c15f13d94dc5",
   "metadata": {},
   "outputs": [
    {
     "data": {
      "text/plain": [
       "'d'"
      ]
     },
     "execution_count": 20,
     "metadata": {},
     "output_type": "execute_result"
    }
   ],
   "source": [
    "spam[int(int(\"3\"*2) / 11)]"
   ]
  },
  {
   "cell_type": "raw",
   "id": "c6acfe70-777e-4db0-bd2c-2ad37f3ff889",
   "metadata": {},
   "source": [
    "4. What is the value of spam[-1]?"
   ]
  },
  {
   "cell_type": "code",
   "execution_count": 21,
   "id": "3672f8ce-1ea7-4da2-8f8e-17ec29e790a5",
   "metadata": {},
   "outputs": [
    {
     "data": {
      "text/plain": [
       "'d'"
      ]
     },
     "execution_count": 21,
     "metadata": {},
     "output_type": "execute_result"
    }
   ],
   "source": [
    "spam[-1]"
   ]
  },
  {
   "cell_type": "raw",
   "id": "d55e10db-43a6-410a-9e96-a2f1d0150b21",
   "metadata": {},
   "source": [
    "5. What is the value of spam[:2]?"
   ]
  },
  {
   "cell_type": "code",
   "execution_count": 22,
   "id": "3db83d21-7ada-472a-a9c3-9b6b770ad0cc",
   "metadata": {},
   "outputs": [
    {
     "data": {
      "text/plain": [
       "['a', 'b']"
      ]
     },
     "execution_count": 22,
     "metadata": {},
     "output_type": "execute_result"
    }
   ],
   "source": [
    "spam[:2]"
   ]
  },
  {
   "cell_type": "code",
   "execution_count": 38,
   "id": "07171c07-45a2-4e01-804e-4a13281744a9",
   "metadata": {},
   "outputs": [],
   "source": [
    "bacon = [3.14,\"cat\",11,\"cat\",True]"
   ]
  },
  {
   "cell_type": "raw",
   "id": "f86a35cc-a260-4960-974a-38296dd0256c",
   "metadata": {},
   "source": [
    "6. What is the value of bacon.index(&#39;cat&#39;)?\n"
   ]
  },
  {
   "cell_type": "code",
   "execution_count": 39,
   "id": "4fb2e043-106c-46c0-a65f-05ca9be6756a",
   "metadata": {},
   "outputs": [
    {
     "data": {
      "text/plain": [
       "1"
      ]
     },
     "execution_count": 39,
     "metadata": {},
     "output_type": "execute_result"
    }
   ],
   "source": [
    "bacon.index(\"cat\")"
   ]
  },
  {
   "cell_type": "raw",
   "id": "42727166-667b-413f-befc-aa5da5b17ee5",
   "metadata": {},
   "source": [
    "7. How does bacon.append(99) change the look of the list value in bacon?\n"
   ]
  },
  {
   "cell_type": "code",
   "execution_count": 40,
   "id": "e9a5455d-d534-481d-9519-69b2e2ee42a8",
   "metadata": {},
   "outputs": [
    {
     "data": {
      "text/plain": [
       "[3.14, 'cat', 11, 'cat', True, 99]"
      ]
     },
     "execution_count": 40,
     "metadata": {},
     "output_type": "execute_result"
    }
   ],
   "source": [
    "bacon.append(99)\n",
    "bacon"
   ]
  },
  {
   "cell_type": "raw",
   "id": "202e1c06-b95b-41d6-bccc-7df68b2d2cac",
   "metadata": {},
   "source": [
    "8. How does bacon.remove(&#39;cat&#39;) change the look of the list in bacon?"
   ]
  },
  {
   "cell_type": "code",
   "execution_count": 41,
   "id": "00b7b6a4-ee5f-4f66-87c7-8597bfc00071",
   "metadata": {},
   "outputs": [
    {
     "data": {
      "text/plain": [
       "[3.14, 11, 'cat', True, 99]"
      ]
     },
     "execution_count": 41,
     "metadata": {},
     "output_type": "execute_result"
    }
   ],
   "source": [
    "bacon.remove(\"cat\")\n",
    "bacon  "
   ]
  },
  {
   "cell_type": "raw",
   "id": "90ee64f1-b91b-4b12-a6a8-0dc8420c822c",
   "metadata": {},
   "source": [
    "9. What are the list concatenation and list replication operators?"
   ]
  },
  {
   "cell_type": "markdown",
   "id": "bc6bcf61-2748-46f6-89f6-8647fbba7a78",
   "metadata": {},
   "source": [
    "Ans9.\n",
    "The operator for list concatenation is +, while the operator for replication is *."
   ]
  },
  {
   "cell_type": "raw",
   "id": "81e1ec36-862a-43ed-866e-57349827dc0d",
   "metadata": {},
   "source": [
    "10. What is difference between the list methods append() and insert()?"
   ]
  },
  {
   "cell_type": "markdown",
   "id": "5d827e50-ba7c-4fa6-9c32-b3e9dd874fb8",
   "metadata": {},
   "source": [
    "Ans10.\n",
    "append() adds an item to the end of a list, whereas . insert() inserts and item in a specified position in the list."
   ]
  },
  {
   "cell_type": "raw",
   "id": "4b82fd88-fc46-4e04-8966-d6b0600a10a9",
   "metadata": {},
   "source": [
    "11. What are the two methods for removing items from a list?"
   ]
  },
  {
   "cell_type": "markdown",
   "id": "bdc21409-afae-4e7d-b4f9-318df1845b10",
   "metadata": {},
   "source": [
    "Ans11.\n",
    "these are the two methods for removing items from a list\n",
    "(1)remove(),\n",
    "(2)pop(). It helps to remove the very first given element matching from the list. The pop() method removes an element from the list based on the index we given."
   ]
  },
  {
   "cell_type": "raw",
   "id": "db6f277a-e877-49e5-adfe-0b62a310634b",
   "metadata": {},
   "source": [
    "12. Describe how list values and string values are identical."
   ]
  },
  {
   "cell_type": "markdown",
   "id": "66bb26de-3eb5-4a95-8cf8-9ac199510a8a",
   "metadata": {},
   "source": [
    "Ans12.\n",
    "Answer. The similarity between Lists and Strings in Python is that both are sequences.Lists are similar to strings, which are ordered collections of characters,Both strings and lists have lengths: a string's length is the number of characters in the string; a list's length is the number of items in the list"
   ]
  },
  {
   "cell_type": "raw",
   "id": "ba9e89d0-a110-4b0b-9924-aeed12c33616",
   "metadata": {},
   "source": [
    "13. What is the difference between tuples and lists?"
   ]
  },
  {
   "cell_type": "markdown",
   "id": "f3203770-245b-4d21-8b32-75563107933c",
   "metadata": {},
   "source": [
    "Ans13.\n",
    "List is a collection which is ordered and mutable. Tuple is a collection which is ordered and unchangeable.\n",
    "tuple's can be declared using parentheses.\n",
    "list can be created using square brackets."
   ]
  },
  {
   "cell_type": "raw",
   "id": "f805775b-065c-4778-8e41-bcc31ee77cca",
   "metadata": {},
   "source": [
    "14. How do you type a tuple value that only contains the integer 42?"
   ]
  },
  {
   "cell_type": "code",
   "execution_count": 46,
   "id": "28ef91c1-915c-40af-ba0e-ca9fdc573ec7",
   "metadata": {},
   "outputs": [
    {
     "data": {
      "text/plain": [
       "tuple"
      ]
     },
     "execution_count": 46,
     "metadata": {},
     "output_type": "execute_result"
    }
   ],
   "source": [
    "tupl = (42,)\n",
    "type(tupl)"
   ]
  },
  {
   "cell_type": "raw",
   "id": "4cfc5d79-63ef-4a54-afd2-9cdf1946b6d8",
   "metadata": {},
   "source": [
    "15. How do you get a list values tuple form? How do you get a tuple value's list form?"
   ]
  },
  {
   "cell_type": "markdown",
   "id": "d5f3d44e-ba23-4ef3-9cc1-ac8b885ac321",
   "metadata": {},
   "source": [
    "Ans15.\n",
    "Using the tuple() built-in function\n",
    "using the list() function"
   ]
  },
  {
   "cell_type": "raw",
   "id": "944fd8b5-cc46-471b-bd8f-baa72dc94ba0",
   "metadata": {},
   "source": [
    "16. Variables that contain list values are not necessarily lists themselves. Instead, what do they contain?"
   ]
  },
  {
   "cell_type": "markdown",
   "id": "b97ac203-9503-4598-b5f5-46101502468d",
   "metadata": {},
   "source": [
    "Ans16.\n",
    "Variables will contain references to list values rather than list values themselves. But for strings and integer values, variables simply contain the string or integer value."
   ]
  },
  {
   "cell_type": "raw",
   "id": "133476ec-7f9e-48a6-bad3-5ca9867c7d22",
   "metadata": {},
   "source": [
    "17. How do you distinguish between copy.copy() and copy.deepcopy()?"
   ]
  },
  {
   "cell_type": "markdown",
   "id": "47d5246a-09e0-4cbb-abbf-825bcbfd753f",
   "metadata": {},
   "source": [
    "Ans17.\n",
    "copy() create reference to original object. If you change copied object - you change the original object. . deepcopy() creates new object and does real copying of original object to new one."
   ]
  },
  {
   "cell_type": "code",
   "execution_count": null,
   "id": "e47ae697-6853-4285-89d2-64909ea1d11f",
   "metadata": {},
   "outputs": [],
   "source": []
  }
 ],
 "metadata": {
  "kernelspec": {
   "display_name": "Python 3 (ipykernel)",
   "language": "python",
   "name": "python3"
  },
  "language_info": {
   "codemirror_mode": {
    "name": "ipython",
    "version": 3
   },
   "file_extension": ".py",
   "mimetype": "text/x-python",
   "name": "python",
   "nbconvert_exporter": "python",
   "pygments_lexer": "ipython3",
   "version": "3.10.6"
  }
 },
 "nbformat": 4,
 "nbformat_minor": 5
}

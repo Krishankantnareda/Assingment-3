{
 "cells": [
  {
   "cell_type": "raw",
   "id": "43a76e5a-5790-4ffd-a7a6-877b74f508d5",
   "metadata": {},
   "source": [
    "1. What are escape characters, and how do you use them?"
   ]
  },
  {
   "cell_type": "markdown",
   "id": "aca4e84c-a6a1-42fd-90af-d0820c952e5b",
   "metadata": {},
   "source": [
    "Ans. \n",
    "if we want to insert any symbol or any special carector than use an escape character. An escape character is a backslash \\ followed by the character you want to insert in a string."
   ]
  },
  {
   "cell_type": "raw",
   "id": "b4aff110-6285-4fef-881f-d5a83e5fc8ac",
   "metadata": {},
   "source": [
    "2. What do the escape characters n and t stand for?"
   ]
  },
  {
   "cell_type": "code",
   "execution_count": 1,
   "id": "03a73f03-9e3e-4921-8d47-487a31cad351",
   "metadata": {},
   "outputs": [
    {
     "name": "stdout",
     "output_type": "stream",
     "text": [
      "kri\n",
      " nareda\n"
     ]
    }
   ],
   "source": [
    "st = \"kri\\n nareda\" # \\n for new line \n",
    "print(st)"
   ]
  },
  {
   "cell_type": "code",
   "execution_count": 2,
   "id": "c69f7c5d-955f-4acf-9be1-46274020d39c",
   "metadata": {},
   "outputs": [
    {
     "name": "stdout",
     "output_type": "stream",
     "text": [
      "krishan \t nareda\n"
     ]
    }
   ],
   "source": [
    "st = \"krishan \\t nareda\"  # \\t for tab\n",
    "print(st)"
   ]
  },
  {
   "cell_type": "raw",
   "id": "f6bd395c-3265-48dd-be62-ce09dbb6b8d1",
   "metadata": {},
   "source": [
    "3. What is the way to include backslash characters in a string?"
   ]
  },
  {
   "cell_type": "markdown",
   "id": "8522226e-9a32-4f5b-9c55-d4fb7c3757a1",
   "metadata": {},
   "source": [
    "Ans: The \\\\ escape character will represent the backslash character in a string"
   ]
  },
  {
   "cell_type": "raw",
   "id": "e8dc2239-9b3f-4e3d-9da6-7605e90d25cc",
   "metadata": {},
   "source": [
    "4. The string \"Howl's Moving Castle\" is a correct value. Why isn't the single quote character in the\n",
    "word Howl's not escaped a problem?"
   ]
  },
  {
   "cell_type": "markdown",
   "id": "a8ac0b92-5b16-413f-802f-6d4f9b3bb490",
   "metadata": {},
   "source": [
    "st = 'Howl\"s Moving Castle'\n",
    "Ans: The string \"Howl's Moving Castle\" escaped the problem because it is wrapped inside double quotes. if its wrapped inside single quotes then we have to use escape character \\' to show single quote in the final output\n",
    "'Howl\\'s Moving Castle' -> 'Howl's Moving Castle'"
   ]
  },
  {
   "cell_type": "raw",
   "id": "fed43153-e4d5-482d-b429-fe6b86946f60",
   "metadata": {},
   "source": [
    "5. How do you write a string of newlines if you don't want to use the n character?"
   ]
  },
  {
   "cell_type": "markdown",
   "id": "ba7d61cf-6ef5-459b-b1c5-67475e744886",
   "metadata": {},
   "source": [
    "Ans: Multiline string allow you to use newlines in string without the \\n escape character"
   ]
  },
  {
   "cell_type": "raw",
   "id": "64f8402a-4ae6-4b66-8432-a54e13a8a390",
   "metadata": {},
   "source": [
    "6. What are the values of the given expressions?\n",
    "'Hello, world!'[1]\n",
    "'Hello, world!'[0:5]\n",
    "'Hello, world!'[:5]\n",
    "'Hello, world!'[3:]"
   ]
  },
  {
   "cell_type": "code",
   "execution_count": 3,
   "id": "110976c6-1f95-44a0-a486-c85443d83d1e",
   "metadata": {},
   "outputs": [
    {
     "name": "stdout",
     "output_type": "stream",
     "text": [
      "e\n",
      "Hello\n",
      "Hello\n",
      "lo, world!\n"
     ]
    }
   ],
   "source": [
    "# Ans: The values for the given expressions are:\n",
    "print('Hello, world!'[1]) # -> 'e'\n",
    "print('Hello, world!'[0:5]) # -> 'Hello'\n",
    "print('Hello, world!'[:5]) # -> 'Hello'\n",
    "print('Hello, world!'[3:]) # -> 'lo, world!'"
   ]
  },
  {
   "cell_type": "raw",
   "id": "df5042a6-b81e-4f52-a96f-4fe6990d10ea",
   "metadata": {},
   "source": [
    "7. What are the values of the following expressions?\n",
    "'Hello'.upper()\n",
    "'Hello'.upper().isupper()\n",
    "'Hello'.upper().lower()"
   ]
  },
  {
   "cell_type": "code",
   "execution_count": 4,
   "id": "4de08554-8eb8-4d1e-9b64-318866300265",
   "metadata": {},
   "outputs": [
    {
     "name": "stdout",
     "output_type": "stream",
     "text": [
      "HELLO\n",
      "True\n",
      "hello\n"
     ]
    }
   ],
   "source": [
    "print('Hello'.upper())\n",
    "print('Hello'.upper().isupper())\n",
    "print('Hello'.upper().lower())"
   ]
  },
  {
   "cell_type": "raw",
   "id": "fce9c3ec-79cc-4773-85af-20d02225bfa7",
   "metadata": {},
   "source": [
    "8. What are the values of the following expressions?\n",
    "'Remember, remember, the fifth of July'.split()\n",
    "'-'.join('There can only one'.split())"
   ]
  },
  {
   "cell_type": "code",
   "execution_count": 5,
   "id": "76582d87-0748-4ab1-bae4-ab59240d0f54",
   "metadata": {},
   "outputs": [
    {
     "data": {
      "text/plain": [
       "['Remember,', 'remember,', 'the', 'fifth', 'of', 'July']"
      ]
     },
     "execution_count": 5,
     "metadata": {},
     "output_type": "execute_result"
    }
   ],
   "source": [
    "'Remember, remember, the fifth of July'.split()\n"
   ]
  },
  {
   "cell_type": "code",
   "execution_count": 6,
   "id": "f74672e8-6a0c-43c0-ac97-2888a79833f2",
   "metadata": {},
   "outputs": [
    {
     "data": {
      "text/plain": [
       "'There-can-only-one'"
      ]
     },
     "execution_count": 6,
     "metadata": {},
     "output_type": "execute_result"
    }
   ],
   "source": [
    "'-'.join('There can only one'.split())"
   ]
  },
  {
   "cell_type": "raw",
   "id": "4d60423a-1030-4d6a-98c5-aa0bfe6e322a",
   "metadata": {},
   "source": [
    "9. What are the methods for right-justifying, left-justifying, and centering a string?"
   ]
  },
  {
   "cell_type": "markdown",
   "id": "fcd511f9-6113-4daa-b0d4-1575263e8027",
   "metadata": {},
   "source": [
    "Ans: The rjust(),ljust(),center() string methods, respectively"
   ]
  },
  {
   "cell_type": "code",
   "execution_count": 7,
   "id": "06d9de62-459c-4605-9d6e-46dd91ad148d",
   "metadata": {},
   "outputs": [
    {
     "data": {
      "text/plain": [
       "'krishan kant sharma'"
      ]
     },
     "execution_count": 7,
     "metadata": {},
     "output_type": "execute_result"
    }
   ],
   "source": [
    "sts = \"krishan kant sharma\" \n",
    "sts.center(3)"
   ]
  },
  {
   "cell_type": "code",
   "execution_count": 8,
   "id": "18055af3-2bee-4c86-afaf-fbbd3b7017a9",
   "metadata": {},
   "outputs": [
    {
     "data": {
      "text/plain": [
       "'krishan kant sharma'"
      ]
     },
     "execution_count": 8,
     "metadata": {},
     "output_type": "execute_result"
    }
   ],
   "source": [
    "sts.rjust(3)"
   ]
  },
  {
   "cell_type": "code",
   "execution_count": 9,
   "id": "b85d8960-919f-4c68-9a7f-80e9a421580c",
   "metadata": {},
   "outputs": [
    {
     "data": {
      "text/plain": [
       "'krishan kant sharma'"
      ]
     },
     "execution_count": 9,
     "metadata": {},
     "output_type": "execute_result"
    }
   ],
   "source": [
    "sts.ljust(5)"
   ]
  },
  {
   "cell_type": "raw",
   "id": "bfd33d02-efae-451f-86dd-1431d4cd519e",
   "metadata": {},
   "source": [
    "10. What is the best way to remove whitespace characters from the start or end?"
   ]
  },
  {
   "cell_type": "markdown",
   "id": "d54811d5-d05f-4b69-ba1c-54b8f184bad7",
   "metadata": {},
   "source": [
    "Ans: The lstrip() and rstrip() methods remove whitesapce characters from the left and right ends of a string respectively"
   ]
  },
  {
   "cell_type": "code",
   "execution_count": 10,
   "id": "e90f0851-3ccc-4faf-b369-46ce7dbefdaf",
   "metadata": {},
   "outputs": [
    {
     "data": {
      "text/plain": [
       "'krisha kant shamra'"
      ]
     },
     "execution_count": 10,
     "metadata": {},
     "output_type": "execute_result"
    }
   ],
   "source": [
    "kr = \"krisha kant shamra             \"\n",
    "kr.rstrip()"
   ]
  }
 ],
 "metadata": {
  "kernelspec": {
   "display_name": "Python 3 (ipykernel)",
   "language": "python",
   "name": "python3"
  },
  "language_info": {
   "codemirror_mode": {
    "name": "ipython",
    "version": 3
   },
   "file_extension": ".py",
   "mimetype": "text/x-python",
   "name": "python",
   "nbconvert_exporter": "python",
   "pygments_lexer": "ipython3",
   "version": "3.10.6"
  }
 },
 "nbformat": 4,
 "nbformat_minor": 5
}

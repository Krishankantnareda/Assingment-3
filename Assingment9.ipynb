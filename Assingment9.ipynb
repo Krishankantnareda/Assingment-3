{
 "cells": [
  {
   "cell_type": "raw",
   "id": "90001c96-e7f7-42df-8f3d-32699bcb6352",
   "metadata": {},
   "source": [
    "1. To what does a relative path refer?"
   ]
  },
  {
   "cell_type": "markdown",
   "id": "dde9c2e6-92b7-45d4-825b-e81a4428c86f",
   "metadata": {},
   "source": [
    "ANS.\n",
    "A relative path in Python is a path that describes the location of a directory relative to the entry point where you run the Python script."
   ]
  },
  {
   "cell_type": "raw",
   "id": "0ea1e349-b764-4b3b-9ff7-a1bf8d0e71e6",
   "metadata": {},
   "source": [
    "2. What does an absolute path start with your operating system?"
   ]
  },
  {
   "cell_type": "markdown",
   "id": "27a5f6cf-dbb8-4a82-8fa2-1d5d6ff0a509",
   "metadata": {},
   "source": [
    "ANS.\n",
    "An absolute path always contains the root element and the complete directory list required to locate the file. For example, /home/sally/statusReport is an absolute path. All of the information needed to locate the file is contained in the path string."
   ]
  },
  {
   "cell_type": "raw",
   "id": "4752d800-9c63-4b66-93fa-c5038303f739",
   "metadata": {},
   "source": [
    "3. What do the functions os.getcwd() and os.chdir() do?"
   ]
  },
  {
   "cell_type": "code",
   "execution_count": 1,
   "id": "10f2e3fa-833d-4e69-98e1-b679d512aa94",
   "metadata": {},
   "outputs": [
    {
     "data": {
      "text/plain": [
       "'/home/jovyan/work'"
      ]
     },
     "execution_count": 1,
     "metadata": {},
     "output_type": "execute_result"
    }
   ],
   "source": [
    "import os\n",
    "os.getcwd() #Check Working Directory \n",
    "\n",
    "# getcwd() : CWD stands for Current Working Directory. This function allows you to see\n",
    "# what your current working directory is."
   ]
  },
  {
   "cell_type": "code",
   "execution_count": 2,
   "id": "9ba4a884-17ef-465c-872c-bc9b22e248d9",
   "metadata": {},
   "outputs": [],
   "source": [
    "os.chdir('/home/jovyan/work') ## Set Your Working Directory "
   ]
  },
  {
   "cell_type": "raw",
   "id": "8b2ed67d-3a1f-4d86-a922-21f09fcdd56c",
   "metadata": {},
   "source": [
    "4. What are the . and .. folders?"
   ]
  },
  {
   "cell_type": "markdown",
   "id": "807b4369-65bd-49d5-a39a-f61e8f88cad9",
   "metadata": {},
   "source": [
    "ANS->\n",
    ". and .. are special directories in Unix-like operating systems that refer to the current directory and the parent directory, respectively. The . directory is used to represent the current directory in commands and scripts, while the .. directory is used to represent the parent directory. These directories are automatically created when a new directory is created12"
   ]
  },
  {
   "cell_type": "raw",
   "id": "4b639b44-9a1c-4607-bbb6-9131cb3905e3",
   "metadata": {},
   "source": [
    "5. In C:\\bacon\\eggs\\spam.txt, which part is the dir name, and which part is the base name?"
   ]
  },
  {
   "cell_type": "markdown",
   "id": "3ee586cd-d31a-4085-87fa-422fdaaeeb05",
   "metadata": {},
   "source": [
    "ANS->\n",
    "C:\\bacon\\eggs is the dir name,and\n",
    "spam.txt is the base name"
   ]
  },
  {
   "cell_type": "raw",
   "id": "bac4d864-6f9f-4031-b7f9-56ea8dcda3c3",
   "metadata": {},
   "source": [
    "6. What are the three “mode” arguments that can be passed to the open() function?"
   ]
  },
  {
   "cell_type": "markdown",
   "id": "4a0ecb8b-9d96-4479-a1be-611a7b4b67df",
   "metadata": {},
   "source": [
    "Mode\tDescription\n",
    "'r'\tOpen a file for reading. (default)\n",
    "'w'\tOpen a file for writing. Creates a new file if it does not exist or truncates the file if it exists.\n",
    "'x'\tOpen a file for exclusive creation. If the file already exists, the operation fails.\n",
    "'a'\tOpen for appending at the end of the file without truncating it. Creates a new file if it does not exist."
   ]
  },
  {
   "cell_type": "raw",
   "id": "6d438a6c-4375-47c3-a0bc-dda5e8e0037b",
   "metadata": {},
   "source": [
    "7. What happens if an existing file is opened in write mode?"
   ]
  },
  {
   "cell_type": "markdown",
   "id": "43073dc9-c9b4-4c4d-8d26-1d78a8062764",
   "metadata": {},
   "source": [
    "ANS->\n",
    "If an existing file is opened in write mode, the contents of the file will be deleted before writing"
   ]
  },
  {
   "cell_type": "raw",
   "id": "f53c189a-6eb1-4e04-8d94-9cedff5ef54b",
   "metadata": {},
   "source": [
    "8. How do you tell the difference between read() and readlines()?"
   ]
  },
  {
   "cell_type": "markdown",
   "id": "26824e2c-b2de-40a1-b086-289cb4023c5d",
   "metadata": {},
   "source": [
    "ANS->\n",
    "In Python, read() is used to read the entire file as a single string, while readlines() is used to read the entire file as a list of strings, where each string is a line from the file"
   ]
  },
  {
   "cell_type": "raw",
   "id": "02b871d2-9824-46f5-8a3b-022c422bfc0c",
   "metadata": {},
   "source": [
    "9. What data structure does a shelf value resemble?"
   ]
  },
  {
   "cell_type": "markdown",
   "id": "c62de81c-836d-4dc5-8787-cb6df8941218",
   "metadata": {},
   "source": [
    "ANS->\n",
    "A shelf value resembles a dictionary value; it has keys and values, along with keys() and values() methods that work similarly to the dictionary methods of the same names."
   ]
  }
 ],
 "metadata": {
  "kernelspec": {
   "display_name": "Python 3 (ipykernel)",
   "language": "python",
   "name": "python3"
  },
  "language_info": {
   "codemirror_mode": {
    "name": "ipython",
    "version": 3
   },
   "file_extension": ".py",
   "mimetype": "text/x-python",
   "name": "python",
   "nbconvert_exporter": "python",
   "pygments_lexer": "ipython3",
   "version": "3.10.6"
  }
 },
 "nbformat": 4,
 "nbformat_minor": 5
}

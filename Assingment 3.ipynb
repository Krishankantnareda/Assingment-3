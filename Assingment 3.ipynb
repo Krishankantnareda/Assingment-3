{
 "cells": [
  {
   "cell_type": "raw",
   "id": "f1ee4d95-dd55-4f5c-89d1-80e7f696f697",
   "metadata": {},
   "source": [
    "1. Why are functions advantageous to have in your programs?"
   ]
  },
  {
   "cell_type": "markdown",
   "id": "1d24b837-973e-4c4f-95f4-ab893fb46b7a",
   "metadata": {},
   "source": [
    "Ans 1.\n",
    "\n",
    "With the help of functions, we can avoid rewriting the same logic or code again and again in a program. In a single Program, we can call Python functions anywhere and also call multiple times"
   ]
  },
  {
   "cell_type": "raw",
   "id": "c62a65e2-eb3d-482e-805f-f5e0f16f92b8",
   "metadata": {},
   "source": [
    "2. When does the code in a function run: when it's specified or when it's called?"
   ]
  },
  {
   "cell_type": "markdown",
   "id": "9b5c9cef-7791-4604-bcaa-9c5004dc583d",
   "metadata": {},
   "source": [
    "Ans 2.\n",
    "\n",
    "The code in a function executes when the function is called, not when the function is defined."
   ]
  },
  {
   "cell_type": "raw",
   "id": "83a63555-c7c2-474c-99bc-da8bb0db3ff6",
   "metadata": {},
   "source": [
    "3. What statement creates a function?"
   ]
  },
  {
   "cell_type": "markdown",
   "id": "7e6afee5-0f13-4985-9c9d-bc41042dda04",
   "metadata": {},
   "source": [
    "Ans 3.\n",
    "\n",
    "To create a function, we must first declare it with the help of def and give it a name of the function,and then we follow it by a function definition: var sayHello = function() { }; We could put any code inside that function - one statement, multiple statements - depends on what we want to do."
   ]
  },
  {
   "cell_type": "raw",
   "id": "3660f160-bb09-444c-b704-56e574b19230",
   "metadata": {},
   "source": [
    "4. What is the difference between a function and a function call?"
   ]
  },
  {
   "cell_type": "markdown",
   "id": "9945e6be-40ae-4a3f-8fd3-fb0dcc4f6722",
   "metadata": {},
   "source": [
    "Ans 4.\n",
    "\n",
    "A function is a block of code that does a particular operation and returns a result. It usually accepts inputs as parameters and returns a result. The parameters are not mandatory.\n",
    "And A function call is the code used to pass control to a function."
   ]
  },
  {
   "cell_type": "code",
   "execution_count": 1,
   "id": "5205e02d-ca34-4fe4-9a59-01a1bb5cb405",
   "metadata": {},
   "outputs": [],
   "source": [
    "def my_func(): # Createing fucntion\n",
    "    pass \n",
    "my_func() #calling of function"
   ]
  },
  {
   "cell_type": "raw",
   "id": "5f0fbff6-6017-4c4a-9d71-89faf290ac56",
   "metadata": {},
   "source": [
    "5. How many global scopes are there in a Python program? How many local scopes?"
   ]
  },
  {
   "cell_type": "markdown",
   "id": "f8f78ea5-9f5f-4507-9e4f-50b3cc2a95c9",
   "metadata": {},
   "source": [
    "Ans 5.\n",
    "\n",
    "At any given time during execution, you'll have at most four active Python scopes—local, enclosing, global, and built-in—depending on where you are in the code. On the other hand, you'll always have at least two active scopes, which are the global and built-in scopes."
   ]
  },
  {
   "cell_type": "raw",
   "id": "f62be9f5-770d-45fc-9438-7b4b674414b0",
   "metadata": {},
   "source": [
    "6. What happens to variables in a local scope when the function call returns?"
   ]
  },
  {
   "cell_type": "markdown",
   "id": "c4aa1f67-7e76-4fb2-afe5-7b10026a811b",
   "metadata": {},
   "source": [
    "Ans 6.\n",
    "\n",
    "Each call of the function creates new local variables, and their lifetimes expire when the function returns to the caller."
   ]
  },
  {
   "cell_type": "raw",
   "id": "250207f9-a7e2-4c23-abce-42929f2b6600",
   "metadata": {},
   "source": [
    "7. What is the concept of a return value? Is it possible to have a return value in an expression?"
   ]
  },
  {
   "cell_type": "markdown",
   "id": "4f30de56-3013-434e-8a58-6209603a0763",
   "metadata": {},
   "source": [
    "Ans 7,\n",
    "\n",
    "(1) In Python, every function returns something. If there are no return statements, then it returns None. If the return statement contains an expression, it’s evaluated first and then the value is returned. \n",
    "\n",
    "(2) yes, it’s possible to have a return value in an expression in Python."
   ]
  },
  {
   "cell_type": "raw",
   "id": "f756158a-2301-4c03-9be9-ccedb9aec675",
   "metadata": {},
   "source": [
    "8. If a function does not have a return statement, what is the return value of a call to that function?"
   ]
  },
  {
   "cell_type": "markdown",
   "id": "02d3b53b-caf1-4508-9d32-9b34d678699e",
   "metadata": {},
   "source": [
    "Ans 8,\n",
    "\n",
    "If no return statement appears in a function definition, control automatically returns to the calling function after the last statement of the called function is executed. In this case, the return value of the called function is undefined"
   ]
  },
  {
   "cell_type": "raw",
   "id": "9352f8e6-874a-4a38-8bfa-9e61d796d480",
   "metadata": {},
   "source": [
    "9. How do you make a function variable refer to the global variable?"
   ]
  },
  {
   "cell_type": "markdown",
   "id": "89c2cb40-f7cf-4944-aec3-8f9df022895f",
   "metadata": {},
   "source": [
    "Ans 9,\n",
    "\n",
    "Normally, when you create a variable inside a function, that variable is local, and can only be used inside that function. To create a global variable inside a function, you can use the global keyword."
   ]
  },
  {
   "cell_type": "raw",
   "id": "fa98ceae-7c63-4d7d-a5be-07d59ad4b2e9",
   "metadata": {},
   "source": [
    "10. What is the data type of None?"
   ]
  },
  {
   "cell_type": "markdown",
   "id": "15079fcf-bb3c-4f9a-9ff3-649707377fc3",
   "metadata": {},
   "source": [
    "Ans 10.\n",
    "\n",
    "The None keyword is used to define a null value, or no value at all. None is not the same as 0, False, or an empty string. None is a data type of its own (NoneType) and only None can be None."
   ]
  },
  {
   "cell_type": "raw",
   "id": "0140b61e-72e8-481c-a931-bd31b54cc762",
   "metadata": {},
   "source": [
    "11. What does the sentence import areallyourpetsnamederic do?"
   ]
  },
  {
   "cell_type": "markdown",
   "id": "ac9a8048-ea0e-4541-9bd1-c3adfa2fd6eb",
   "metadata": {},
   "source": [
    "Ans 11.\n",
    "\n",
    "import statement imports a module named called areallyourpetsnamederic."
   ]
  },
  {
   "cell_type": "raw",
   "id": "9eaec796-c350-416a-b291-36caf042321b",
   "metadata": {},
   "source": [
    "12. If you had a bacon() feature in a spam module, what would you call it after importing spam?"
   ]
  },
  {
   "cell_type": "markdown",
   "id": "341496f7-af75-41da-9c1f-c9c84b194d60",
   "metadata": {},
   "source": [
    "Ans 12.\n",
    "\n",
    "This function can be called with \n",
    "\n",
    "spam. bacon()"
   ]
  },
  {
   "cell_type": "raw",
   "id": "7e150d91-2151-458e-bbd5-5e56976210bb",
   "metadata": {},
   "source": [
    "13. What can you do to save a programme from crashing if it encounters an error?"
   ]
  },
  {
   "cell_type": "markdown",
   "id": "34506339-d288-462e-8f6a-94983fc1b940",
   "metadata": {},
   "source": [
    "Ans 13.\n",
    "\n",
    "Prevents program from crashing if an error occurs\n",
    "If an error occurs in a program, we don't want the program to unexpectedly crash on the user. Instead, error handling can be used to notify the user of why the error occurred and gracefully exit the process that caused the error."
   ]
  },
  {
   "cell_type": "raw",
   "id": "f3ef5410-c45a-4f99-b659-7681021f268a",
   "metadata": {},
   "source": [
    "14. What is the purpose of the try clause? What is the purpose of the except clause?"
   ]
  },
  {
   "cell_type": "markdown",
   "id": "cdd8eb17-a575-4675-bdcd-3a021e5f28f4",
   "metadata": {},
   "source": [
    "Ans 14.\n",
    "\n",
    "The try block lets you test a block of code for errors if there is an error than it will go to the except block\n",
    "\n",
    "The except block lets you handle the error which is comes in your try block ."
   ]
  }
 ],
 "metadata": {
  "kernelspec": {
   "display_name": "Python 3 (ipykernel)",
   "language": "python",
   "name": "python3"
  },
  "language_info": {
   "codemirror_mode": {
    "name": "ipython",
    "version": 3
   },
   "file_extension": ".py",
   "mimetype": "text/x-python",
   "name": "python",
   "nbconvert_exporter": "python",
   "pygments_lexer": "ipython3",
   "version": "3.10.6"
  }
 },
 "nbformat": 4,
 "nbformat_minor": 5
}

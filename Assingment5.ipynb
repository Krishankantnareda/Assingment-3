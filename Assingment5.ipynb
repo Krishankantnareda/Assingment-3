{
 "cells": [
  {
   "cell_type": "raw",
   "id": "d216179f-4cfc-4595-83ed-58c2b8db4efe",
   "metadata": {},
   "source": [
    "1. What does an empty dictionary's code look like?"
   ]
  },
  {
   "cell_type": "code",
   "execution_count": 1,
   "id": "268973ce-52e5-4644-b706-33daf0e316c3",
   "metadata": {},
   "outputs": [
    {
     "data": {
      "text/plain": [
       "dict"
      ]
     },
     "execution_count": 1,
     "metadata": {},
     "output_type": "execute_result"
    }
   ],
   "source": [
    "empty_dic = {}\n",
    "type(empty_dic)"
   ]
  },
  {
   "cell_type": "raw",
   "id": "ebd0a2f9-e209-4338-8ede-dc5622770a6f",
   "metadata": {},
   "source": [
    "2. What is the value of a dictionary value with the key \"foo\" and the value 42?"
   ]
  },
  {
   "cell_type": "code",
   "execution_count": 2,
   "id": "7f71a47d-30f5-44e6-8c28-b764eec6ef67",
   "metadata": {},
   "outputs": [
    {
     "data": {
      "text/plain": [
       "dict_values([42])"
      ]
     },
     "execution_count": 2,
     "metadata": {},
     "output_type": "execute_result"
    }
   ],
   "source": [
    "dic = {\"foo\": 42}\n",
    "dic.values()"
   ]
  },
  {
   "cell_type": "raw",
   "id": "bb81c6cf-7fed-48ec-9e87-a0403ab4ae47",
   "metadata": {},
   "source": [
    "3. What is the most significant distinction between a dictionary and a list?"
   ]
  },
  {
   "cell_type": "markdown",
   "id": "e7df8aa0-1f0c-49ab-8be3-f0eb319e3099",
   "metadata": {},
   "source": [
    "Ans3.\n",
    "The most significant distinction between dict and list is \n",
    "in the dict we have to paas our data in \"key\" : value format and we are not be able to use dublicate key's over there but\n",
    "list item are not stored as a key:value format  , we are able to store dublicate item's in list"
   ]
  },
  {
   "cell_type": "raw",
   "id": "297393ca-8dfd-4d16-97af-d42820a98568",
   "metadata": {},
   "source": [
    "4. What happens if you try to access spam[\"foo\"] if spam is {\"bar\": 100}?"
   ]
  },
  {
   "cell_type": "code",
   "execution_count": 3,
   "id": "b095c0c6-74ea-4207-8e68-d58ececd334f",
   "metadata": {},
   "outputs": [
    {
     "ename": "KeyError",
     "evalue": "'foo'",
     "output_type": "error",
     "traceback": [
      "\u001b[0;31m---------------------------------------------------------------------------\u001b[0m",
      "\u001b[0;31mKeyError\u001b[0m                                  Traceback (most recent call last)",
      "Cell \u001b[0;32mIn [3], line 2\u001b[0m\n\u001b[1;32m      1\u001b[0m spam \u001b[38;5;241m=\u001b[39m {\u001b[38;5;124m\"\u001b[39m\u001b[38;5;124mbar\u001b[39m\u001b[38;5;124m\"\u001b[39m : \u001b[38;5;241m100\u001b[39m}\n\u001b[0;32m----> 2\u001b[0m \u001b[43mspam\u001b[49m\u001b[43m[\u001b[49m\u001b[38;5;124;43m\"\u001b[39;49m\u001b[38;5;124;43mfoo\u001b[39;49m\u001b[38;5;124;43m\"\u001b[39;49m\u001b[43m]\u001b[49m\n",
      "\u001b[0;31mKeyError\u001b[0m: 'foo'"
     ]
    }
   ],
   "source": [
    "spam = {\"bar\" : 100}\n",
    "spam[\"foo\"]\n",
    "# it is going to give me an KeyError: \n",
    "# because There is no such key in spam"
   ]
  },
  {
   "cell_type": "raw",
   "id": "6e85ae3e-19d5-4228-a103-3b350d2a2099",
   "metadata": {},
   "source": [
    "5. If a dictionary is stored in spam, what is the difference between the expressions \"cat\" in spam and\n",
    "\"cat\" in spam.keys()?"
   ]
  },
  {
   "cell_type": "code",
   "execution_count": null,
   "id": "5d1c68a1-9275-48c3-86fd-63b027adc6bb",
   "metadata": {},
   "outputs": [],
   "source": [
    "spam = {\"cat\" : 100}\n",
    "\"cat\" in spam"
   ]
  },
  {
   "cell_type": "code",
   "execution_count": 4,
   "id": "aedc8935-4dd9-4d7e-b2bf-5a99d2631044",
   "metadata": {},
   "outputs": [
    {
     "data": {
      "text/plain": [
       "False"
      ]
     },
     "execution_count": 4,
     "metadata": {},
     "output_type": "execute_result"
    }
   ],
   "source": [
    "\"cat\" in spam.keys() # There is no difference between this \n",
    "                     # but if \"cat\" is not in my key's than it will give me error"
   ]
  },
  {
   "cell_type": "raw",
   "id": "7085262e-27f4-4eff-865f-9d7760737c13",
   "metadata": {},
   "source": [
    "7. What is a shortcut for the following code?\n",
    "if \"color\" not in spam:\n",
    "spam[\"color\"] = \"black\""
   ]
  },
  {
   "cell_type": "code",
   "execution_count": 5,
   "id": "c973b609-2391-465b-9abe-d8a3d0a46381",
   "metadata": {},
   "outputs": [
    {
     "name": "stdout",
     "output_type": "stream",
     "text": [
      "{'cat': 100, 'color': 'black'}\n"
     ]
    }
   ],
   "source": [
    "spam = {\"cat\" : 100}\n",
    "spam.setdefault(\"color\" , \"black\")\n",
    "print(spam)"
   ]
  },
  {
   "cell_type": "markdown",
   "id": "dfa3725f-b435-41a6-96c7-db3347265b91",
   "metadata": {},
   "source": [
    "The setdefault() method returns the value of the item with the specified key.\n",
    "\n",
    "If the key does not exist, insert the key, with the specified value"
   ]
  },
  {
   "cell_type": "raw",
   "id": "5e93fb04-0bbf-498b-88d3-54b499ac68e7",
   "metadata": {},
   "source": [
    "8. How do you \"pretty print\" dictionary values using which module and function?"
   ]
  },
  {
   "cell_type": "code",
   "execution_count": 6,
   "id": "bf8c48cc-c2b7-4207-921c-893b26681379",
   "metadata": {},
   "outputs": [],
   "source": [
    "my_dict = [{\"name\" : \"krishan Kant \" , \"age\" : 21 , \"Contry\" : \"USA\"},\n",
    "           {\"name\" : \"Vishnu  \" , \"age\" : 43 , \"Contry\" : \"India\"},\n",
    "           {\"name\" : \"Hrithik  \" , \"age\" : 32 , \"Contry\" : \"CHina\"},\n",
    "           {\"name\" : \"Ankit  \" , \"age\" : 23 , \"Contry\" : \"India\"}]"
   ]
  },
  {
   "cell_type": "code",
   "execution_count": 7,
   "id": "0455b4ec-62d5-4a63-9b80-7043a9c3b4fe",
   "metadata": {},
   "outputs": [
    {
     "name": "stdout",
     "output_type": "stream",
     "text": [
      "[{'Contry': 'USA', 'age': 21, 'name': 'krishan Kant '},\n",
      " {'Contry': 'India', 'age': 43, 'name': 'Vishnu  '},\n",
      " {'Contry': 'CHina', 'age': 32, 'name': 'Hrithik  '},\n",
      " {'Contry': 'India', 'age': 23, 'name': 'Ankit  '}]\n"
     ]
    }
   ],
   "source": [
    "import pprint\n",
    "pprint.pprint(my_dict)"
   ]
  },
  {
   "cell_type": "code",
   "execution_count": 8,
   "id": "3efaea91-a1db-42d7-a43c-d4349ed4f3df",
   "metadata": {},
   "outputs": [
    {
     "name": "stdout",
     "output_type": "stream",
     "text": [
      "[{'name': 'krishan Kant ', 'age': 21, 'Contry': 'USA'}, {'name': 'Vishnu  ', 'age': 43, 'Contry': 'India'}, {'name': 'Hrithik  ', 'age': 32, 'Contry': 'CHina'}, {'name': 'Ankit  ', 'age': 23, 'Contry': 'India'}]\n"
     ]
    }
   ],
   "source": [
    "# Without pprint\n",
    "print(my_dict)"
   ]
  }
 ],
 "metadata": {
  "kernelspec": {
   "display_name": "Python 3 (ipykernel)",
   "language": "python",
   "name": "python3"
  },
  "language_info": {
   "codemirror_mode": {
    "name": "ipython",
    "version": 3
   },
   "file_extension": ".py",
   "mimetype": "text/x-python",
   "name": "python",
   "nbconvert_exporter": "python",
   "pygments_lexer": "ipython3",
   "version": "3.10.6"
  }
 },
 "nbformat": 4,
 "nbformat_minor": 5
}

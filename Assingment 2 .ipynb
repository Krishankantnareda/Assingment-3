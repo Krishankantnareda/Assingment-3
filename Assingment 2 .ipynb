{
 "cells": [
  {
   "cell_type": "raw",
   "id": "a9e207bb-be8c-4906-8875-071810b11c71",
   "metadata": {},
   "source": [
    "1.What are the two values of the Boolean data type? How do you write them?"
   ]
  },
  {
   "cell_type": "markdown",
   "id": "0ecb06a7-5faa-44d0-abbc-660a24a5e73c",
   "metadata": {},
   "source": [
    "Ans1. Boolean data type's has two possible values: True and False.\n",
    "      When the value is returned, true = 1 and false = 0."
   ]
  },
  {
   "cell_type": "raw",
   "id": "83a61c86-a644-4fc5-8927-45937bd76090",
   "metadata": {},
   "source": [
    "2. What are the three different types of Boolean operators?"
   ]
  },
  {
   "cell_type": "markdown",
   "id": "e4f335a8-7e2a-4cc6-b122-36220cd770fe",
   "metadata": {},
   "source": [
    "Ans2. \n",
    "We have 3 different types of Boolean Operators \n",
    "First one is AND , Second one is OR and third one is NOT \n",
    "We use this operators when we use conditional statement in our code \n",
    "When we are using AND operators = than all the condition to be Ture then only it will execute further\n",
    "When we are using OR operators = than one of the condition in our statement is True \n",
    "We use this NOT like this , NOT True = False  , Not False = True"
   ]
  },
  {
   "cell_type": "raw",
   "id": "cf3d7287-387c-4954-8b24-05e7ee8cc410",
   "metadata": {},
   "source": [
    "3. Make a list of each Boolean operator's truth tables (i.e. every possible combination of Boolean values for the operator and what it evaluate )."
   ]
  },
  {
   "cell_type": "markdown",
   "id": "ccc401d0-dba7-456d-9158-ffe224d8e26a",
   "metadata": {},
   "source": [
    "Ans:- ( if we take 0 and 1 while createing the table )\n",
    "\n",
    "\n",
    "True and True is True.\n",
    "True and False is False.\n",
    "False and True is False.\n",
    "False and False is False.\n",
    "\n",
    "True or True is True.\n",
    "True or False is True.\n",
    "False or True is True.\n",
    "False or False is False.\n",
    "\n",
    "not True is False.\n",
    "not False is True.\n",
    "\n",
    "Truth Table for AND\n",
    "A B output\n",
    "0 0 0\n",
    "0 1 0\n",
    "1 0 0\n",
    "1 1 1\n",
    "Truth Table for OR\n",
    "A B output\n",
    "0 0 0\n",
    "0 1 1\n",
    "1 0 1\n",
    "1 1 1\n",
    "Truth Table for NOT\n",
    "A output\n",
    "0 1\n",
    "1 0"
   ]
  },
  {
   "cell_type": "raw",
   "id": "d51ec7cd-6cb6-4d5d-ae91-c4f29712d0a3",
   "metadata": {},
   "source": [
    "4. What are the values of the following expressions?"
   ]
  },
  {
   "cell_type": "markdown",
   "id": "7f34148d-d1eb-4b08-a004-ceb38a1d009b",
   "metadata": {},
   "source": [
    "(5 > 4) and (3 == 5)   =  True  and  False  =  False\n",
    "Becouse  in and operators if any of the condition is False than it will give you False\n",
    "not (5 > 4)            =  not  True   =  False\n",
    "(5 > 4) or (3 == 5)    =   True  or  False  = True\n",
    "Becouse if we use or operator in our condition then if one of the condition is True than or operator will give you True\n",
    "not ((5 > 4) or (3 == 5))             =   not  ( True  or   False ) =   not  (True) =  False\n",
    "(True and True) and (True == False)   =   (True )  and  ( False  )  =  False\n",
    "(not False) or (not True)             =  True  or  False   =  True"
   ]
  },
  {
   "cell_type": "code",
   "execution_count": 1,
   "id": "3332df1b-efac-4d77-a26a-58f18397286e",
   "metadata": {},
   "outputs": [
    {
     "name": "stdout",
     "output_type": "stream",
     "text": [
      "False\n",
      "False\n",
      "True\n",
      "False\n",
      "False\n",
      "True\n"
     ]
    }
   ],
   "source": [
    "print((5>4) and (3==5))\n",
    "print(not(5>4))\n",
    "print((5>4) or (3==5))\n",
    "print(not(5>4) or (3==5))\n",
    "print((True and True) and (True==False))\n",
    "print((not(False))or(not(True)))"
   ]
  },
  {
   "cell_type": "raw",
   "id": "4d1110b2-1fbb-493c-ab45-e1c37aec5460",
   "metadata": {},
   "source": [
    "5. What are the six comparison operators?"
   ]
  },
  {
   "cell_type": "markdown",
   "id": "47b914cd-9996-4b78-8130-e42286ef92e1",
   "metadata": {},
   "source": [
    "We have these six comparison operators   (  = , == , > , <  , >=  , <= )"
   ]
  },
  {
   "cell_type": "raw",
   "id": "0969dfe4-2cff-4f7e-a44b-7aa29f614e94",
   "metadata": {},
   "source": [
    "6. How do you tell the difference between the equal to and assignment operators?Describe a condition and when you would use one."
   ]
  },
  {
   "cell_type": "markdown",
   "id": "37a903a6-485f-40e2-b3fd-ba7d91ecdf2d",
   "metadata": {},
   "source": [
    "Ans6.\n",
    "\n",
    "== is the equal to operator that compares two values and evaluates in the Boolean (True , False) , while = is the assignment operator that stores a value in a variable."
   ]
  },
  {
   "cell_type": "code",
   "execution_count": 2,
   "id": "6baf57d5-6840-4b1c-ae9f-d550516d7b71",
   "metadata": {},
   "outputs": [],
   "source": [
    "variable = 5"
   ]
  },
  {
   "cell_type": "code",
   "execution_count": 3,
   "id": "21e725a1-c2e9-42b8-abf1-719e7339ac81",
   "metadata": {},
   "outputs": [
    {
     "data": {
      "text/plain": [
       "False"
      ]
     },
     "execution_count": 3,
     "metadata": {},
     "output_type": "execute_result"
    }
   ],
   "source": [
    "5==6"
   ]
  },
  {
   "cell_type": "raw",
   "id": "949c0196-68cb-4a8a-8f0b-894b596dc740",
   "metadata": {},
   "source": [
    "7. Identify the three blocks in this code:\n",
    "spam = 0\n",
    "if spam == 10:\n",
    "print('eggs')\n",
    "if spam > 5:\n",
    "print('bacon')\n",
    "else:\n",
    "print('ham')\n",
    "print('spam')\n",
    "print('spam')"
   ]
  },
  {
   "cell_type": "code",
   "execution_count": 4,
   "id": "35cfcd26-d562-43ba-9be8-2ea3409ccaf2",
   "metadata": {},
   "outputs": [
    {
     "name": "stdout",
     "output_type": "stream",
     "text": [
      "ham\n",
      "spam\n",
      "spam\n"
     ]
    }
   ],
   "source": [
    "spam = 0\n",
    "if spam == 10:  # first\n",
    "\tprint('eggs')\n",
    "if spam > 5:    # Second\n",
    "\tprint('bacon')\n",
    "else:           # Third\n",
    "    print('ham')\n",
    "    print('spam')\n",
    "    print('spam')"
   ]
  },
  {
   "cell_type": "raw",
   "id": "891b255c-8dfb-4e04-9312-a2eeceb24939",
   "metadata": {},
   "source": [
    "8. Write code that prints Hello if 1 is stored in spam, prints Howdy if 2 is stored in spam, and prints Greetings! if anything else is stored in spam."
   ]
  },
  {
   "cell_type": "code",
   "execution_count": 6,
   "id": "bcd8555b-7114-4d3c-960f-f9c135cbae03",
   "metadata": {},
   "outputs": [
    {
     "name": "stdin",
     "output_type": "stream",
     "text": [
      "Enter a number:  2\n"
     ]
    },
    {
     "name": "stdout",
     "output_type": "stream",
     "text": [
      "Howdy\n"
     ]
    }
   ],
   "source": [
    "spam =  int(input(\"Enter a number: \"))\n",
    "if spam == 1:\n",
    "    print(\"Hello\")\n",
    "elif spam == 2:\n",
    "    print(\"Howdy\")\n",
    "else:\n",
    "    print(\"Greetings!\")"
   ]
  },
  {
   "cell_type": "raw",
   "id": "1fed15c4-42ba-478b-87ca-30321d9db76c",
   "metadata": {},
   "source": [
    "9.If your programme is stuck in an endless loop, what keys you’ll press?"
   ]
  },
  {
   "cell_type": "markdown",
   "id": "3679c61e-9976-438c-ad1c-51286344c980",
   "metadata": {},
   "source": [
    "Ans9.\n",
    "\n",
    "You'll have to kill the program using Ctrl + C where C stands for Cancel."
   ]
  },
  {
   "cell_type": "raw",
   "id": "e84e595e-1688-4098-b214-5a04f53e026a",
   "metadata": {},
   "source": [
    "10. How can you tell the difference between break and continue?"
   ]
  },
  {
   "cell_type": "markdown",
   "id": "d36bd43b-bbbb-4239-be65-22d0de8983e9",
   "metadata": {},
   "source": [
    "Ans10.\n",
    "\n",
    "If  I am using loop and I want to stop the loop at this condition than was True Then Break will comes into the picture \n",
    "If I am Want to continue at this condition than I sppose to use continue at this time"
   ]
  },
  {
   "cell_type": "code",
   "execution_count": 7,
   "id": "f4a11519-10e8-4c97-ba03-d4d8fd69a336",
   "metadata": {},
   "outputs": [
    {
     "name": "stdout",
     "output_type": "stream",
     "text": [
      "0\n",
      "1\n",
      "2\n",
      "Breaking the loop\n",
      "0\n",
      "1\n",
      "2\n",
      "4\n"
     ]
    }
   ],
   "source": [
    "# use of Break\n",
    "for i in range(5):\n",
    "    if (i==3):\n",
    "        break\n",
    "    print(i)\n",
    "print(\"Breaking the loop\")\n",
    "# This is the use of continue\n",
    "for i in range(5):\n",
    "    if (i==3):\n",
    "        continue\n",
    "    print(i)"
   ]
  },
  {
   "cell_type": "raw",
   "id": "3af1f1d5-bd48-4b21-a7f4-2b5a01112d8e",
   "metadata": {},
   "source": [
    "11. In a for loop, what is the difference between range(10), range(0, 10), and range(0, 10, 1)?"
   ]
  },
  {
   "cell_type": "markdown",
   "id": "78de1534-df35-4ae9-81ac-20da459c3b19",
   "metadata": {},
   "source": [
    "Ans11.\n",
    "\n",
    "Range function will take 3 parameter from user :\n",
    "Range(start, end, step)\n",
    "In an for loop if we are using range(10) : that mean it will take range from  0 to 10 \n",
    "But if i use range(0,10) :  than it will start taking from(first parameter) 0 and end up with(2nd parameter – 1) 9 becouse  the second perameter was excluded \n",
    "Range(0,10,1)  :  it will take 0 to 10 but 3rd parameter is for step so it will take 1 step from 0 to 10\n",
    "And then it will return 1 to 9 "
   ]
  },
  {
   "cell_type": "code",
   "execution_count": 8,
   "id": "53066728-704e-4124-bf5a-ea2a093cfa96",
   "metadata": {},
   "outputs": [
    {
     "name": "stdout",
     "output_type": "stream",
     "text": [
      "0\n",
      "1\n",
      "2\n",
      "3\n",
      "4\n",
      "5\n",
      "6\n",
      "7\n",
      "8\n",
      "9\n",
      "-------------------------\n",
      "0\n",
      "1\n",
      "2\n",
      "3\n",
      "4\n",
      "5\n",
      "6\n",
      "7\n",
      "8\n",
      "9\n",
      "-------------------------\n",
      "0\n",
      "1\n",
      "2\n",
      "3\n",
      "4\n",
      "5\n",
      "6\n",
      "7\n",
      "8\n",
      "9\n"
     ]
    }
   ],
   "source": [
    "for i in range(10):\n",
    "    print(i)\n",
    "print(\"-------------------------\") \n",
    "for i in range(0,10):\n",
    "    print(i)\n",
    "print(\"-------------------------\")\n",
    "for i in range(0,10,1):\n",
    "    print(i)"
   ]
  },
  {
   "cell_type": "raw",
   "id": "4155ece0-ab28-40e1-ae9c-443207afdf34",
   "metadata": {},
   "source": [
    "12. Write a short program that prints the numbers 1 to 10 using a for loop. Then write an equivalent program that prints the numbers 1 to 10 using a while loop."
   ]
  },
  {
   "cell_type": "code",
   "execution_count": 9,
   "id": "0070a982-4e5c-4301-b360-ac408a537900",
   "metadata": {},
   "outputs": [
    {
     "name": "stdout",
     "output_type": "stream",
     "text": [
      "1\n",
      "2\n",
      "3\n",
      "4\n",
      "5\n",
      "6\n",
      "7\n",
      "8\n",
      "9\n",
      "10\n"
     ]
    }
   ],
   "source": [
    "for i in range(1,11):\n",
    "    print(i)"
   ]
  },
  {
   "cell_type": "code",
   "execution_count": 10,
   "id": "1ae41ffc-fc43-4823-a901-ae0f10ca122d",
   "metadata": {},
   "outputs": [
    {
     "name": "stdout",
     "output_type": "stream",
     "text": [
      "1\n",
      "2\n",
      "3\n",
      "4\n",
      "5\n",
      "6\n",
      "7\n",
      "8\n",
      "9\n",
      "10\n"
     ]
    }
   ],
   "source": [
    "i = 1\n",
    "while i<11:\n",
    "    print(i)\n",
    "    i = i + 1"
   ]
  },
  {
   "cell_type": "raw",
   "id": "40b3207a-fe10-4eaf-b284-7f653cf5df9b",
   "metadata": {},
   "source": [
    "13. If you had a function named bacon() inside a module named spam, how would you call it after importing spam?"
   ]
  },
  {
   "cell_type": "markdown",
   "id": "88a5ad24-35d2-4523-96af-e11a3fd573e5",
   "metadata": {},
   "source": [
    "Ans 13.\n",
    "spam.bacon()"
   ]
  },
  {
   "cell_type": "code",
   "execution_count": null,
   "id": "53af4f98-6acf-45ca-8934-19bad8c9bfe0",
   "metadata": {},
   "outputs": [],
   "source": []
  }
 ],
 "metadata": {
  "kernelspec": {
   "display_name": "Python 3 (ipykernel)",
   "language": "python",
   "name": "python3"
  },
  "language_info": {
   "codemirror_mode": {
    "name": "ipython",
    "version": 3
   },
   "file_extension": ".py",
   "mimetype": "text/x-python",
   "name": "python",
   "nbconvert_exporter": "python",
   "pygments_lexer": "ipython3",
   "version": "3.10.6"
  }
 },
 "nbformat": 4,
 "nbformat_minor": 5
}

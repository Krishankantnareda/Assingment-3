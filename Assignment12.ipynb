{
 "cells": [
  {
   "cell_type": "raw",
   "id": "3825e235-cd07-4328-8a8f-f6a9941c5b50",
   "metadata": {},
   "source": [
    "1. In what modes should the PdfFileReader() and PdfFileWriter() File objects will be opened?"
   ]
  },
  {
   "cell_type": "markdown",
   "id": "5131d994-c308-44e1-8100-f36a5751d17e",
   "metadata": {},
   "source": [
    "Ans.\n",
    "PdfFileReader() needs to be opened in read-binary mode by passing 'rb' as the second argument to open(). Likewise, the File object passed to PyPDF2. PdfFileWriter() needs to be opened in write-binary mode with 'wb'."
   ]
  },
  {
   "cell_type": "raw",
   "id": "8a989204-59a2-4c40-a7f9-b105526473ad",
   "metadata": {},
   "source": [
    "2. From a PdfFileReader object, how do you get a Page object for page 5?"
   ]
  },
  {
   "cell_type": "markdown",
   "id": "b52acf73-ad54-4e8d-b3cd-3cc11ca59b4c",
   "metadata": {},
   "source": [
    "Ans.\n",
    "You can get a Page object by calling the getPage() method on a PdfFileReader object and passing it the page number of the page you're interested in—in our case, 0."
   ]
  },
  {
   "cell_type": "raw",
   "id": "03fc79e7-2a14-4119-90aa-c5d71987447e",
   "metadata": {},
   "source": [
    "3. What PdfFileReader variable stores the number of pages in the PDF document?"
   ]
  },
  {
   "cell_type": "markdown",
   "id": "d4a7a452-62de-473a-a685-4e2f9bbdc219",
   "metadata": {},
   "source": [
    "Ans.\n",
    "The total number of pages in the document is stored in the numPages attribute of a PdfFileReader object"
   ]
  },
  {
   "cell_type": "raw",
   "id": "4fc2ef5c-d976-404e-9256-10e4b615bbf2",
   "metadata": {},
   "source": [
    "If a PdfFileReader object’s PDF is encrypted with the password swordfish, what must you do\n",
    "before you can obtain Page objects from it?"
   ]
  },
  {
   "cell_type": "markdown",
   "id": "ac55cbed-cf37-4637-81d4-2f297e94ec9b",
   "metadata": {},
   "source": [
    "Ans: If a `PdfFileReader` object’s PDF is encrypted with the password `swordfish` and you're not aware of it. first read the Pdf using the PdfFileReader Class. PdfFileReader class provides a attribute called `isEncrypted` to check whether a pdf is encrypted or not. the method returns true if a pdf is encrypted and vice versa.  \n",
    "if pdf is encrypted use the `decrypt()` method provided by PdfFileReader class first then try to read the contents/pages of the pdf, else PyPDF2 will raise the following error `PyPDF2.utils.PdfReadError: file has not been decrypted`"
   ]
  },
  {
   "cell_type": "raw",
   "id": "a3eeeb52-6977-4dbb-937e-51fdb0f7ffb0",
   "metadata": {},
   "source": [
    "5. What methods do you use to rotate a page?"
   ]
  },
  {
   "cell_type": "markdown",
   "id": "9c05e1f1-c590-4739-8843-df7f61e1c101",
   "metadata": {},
   "source": [
    "Ans.\n",
    "While viewing a PDF document, press the \"Ctrl+Shift+L\" keys or \"Ctrl+Shift+R\" keys to rotate the current page to the left or right."
   ]
  },
  {
   "cell_type": "raw",
   "id": "aad90f1b-1b63-445e-9bf7-aece59e34550",
   "metadata": {},
   "source": [
    "6. What is the difference between a Run object and a Paragraph object?"
   ]
  },
  {
   "cell_type": "markdown",
   "id": "9d88e196-fa66-486c-b9a8-aaa1a15f0af7",
   "metadata": {},
   "source": [
    "Ans:\n",
    "The structure of a document is represented by three different data types in `python-Docx`. At the highest level, a `Document` object represents the entire document. The Document object contains a list of `Paragraph` objects for the paragraphs in the document. (A new paragraph begins whenever the user presses `ENTER` or `RETURN` while typing in a Word document.) Each of these Paragraph objects contains a list of one or more `Run` objects.\n",
    "\n",
    "The text in a Word document is more than just a string. It has font, size, color, and other styling information associated with it. A style in Word is a collection of these attributes. A Run object is a contiguous run of text with the same style. A new Run object is needed whenever the text style changes."
   ]
  },
  {
   "cell_type": "raw",
   "id": "01576645-c6c6-42ed-85ca-280ea001f0d2",
   "metadata": {},
   "source": [
    "7. How do you obtain a list of Paragraph objects for a Document object that’s stored in a variable\n",
    "named doc?"
   ]
  },
  {
   "cell_type": "raw",
   "id": "33b4439a-fc62-405b-bc55-c3a94c3839e5",
   "metadata": {},
   "source": [
    "# Example Program\n",
    "from docx import Document\n",
    "doc = Document(\"sample_file.docx\") # Path of the Docx file\n",
    "print(doc.paragraphs) # Prints the list of Paragraph objects for a Document\n",
    "for paragraph in doc.paragraphs:\n",
    "    print(paragraph.text) # Prints the text in the paragraph"
   ]
  },
  {
   "cell_type": "raw",
   "id": "8918d835-b350-4c6d-9473-911a591a8825",
   "metadata": {},
   "source": [
    "8. What type of object has bold, underline, italic, strike, and outline variables?"
   ]
  },
  {
   "cell_type": "markdown",
   "id": "2ae69eca-0eed-4791-8890-981308b4f534",
   "metadata": {},
   "source": [
    "Ans\n",
    "`Run`  object has bold, underline, italic, strike, and outline variables. The text in a Word document is more than just a string. It has font, size, color, and other styling information associated with it.\n",
    "\n",
    "A style in Word is a collection of these attributes. A Run object is a contiguous run of text with the same style. A new Run object is needed whenever the text style changes."
   ]
  },
  {
   "cell_type": "raw",
   "id": "1be6c8dd-bdec-4ca4-a457-3bc2e6cb6a61",
   "metadata": {},
   "source": [
    "9. What is the difference between False, True, and None for the bold variable?"
   ]
  },
  {
   "cell_type": "markdown",
   "id": "6b7b209b-5831-4444-9f2e-04b0ebb6b6de",
   "metadata": {},
   "source": [
    "Ans.\n",
    "A Run object has these variables (not a Paragraph). True always makes the Run object bolded and False makes it always not bolded, no matter what the style's bold setting is. None will make the Run object just use the style's bold setting."
   ]
  },
  {
   "cell_type": "raw",
   "id": "b26c1da2-37ff-4faf-99c5-5078f801278d",
   "metadata": {},
   "source": [
    "10. How do you create a Document object for a new Word document?"
   ]
  },
  {
   "cell_type": "raw",
   "id": "4590bced-53c1-4020-94c4-9e32cec11a04",
   "metadata": {},
   "source": [
    "# Ans.\n",
    "# Here is the sample code \n",
    "from docx import Document\n",
    "document = Document()\n",
    "document.add_paragraph(\"iNeuron Full Stack DataScience Course\")\n",
    "document.save('mydocument.docx')"
   ]
  },
  {
   "cell_type": "raw",
   "id": "bbdafdea-1b23-4882-baa7-b3012ff0923b",
   "metadata": {},
   "source": [
    "11. How do you add a paragraph with the text \"Hello, there\" to a Document object stored in a\n",
    "variable named doc?"
   ]
  },
  {
   "cell_type": "raw",
   "id": "72c97014-9a73-474a-9853-6d145bba5b18",
   "metadata": {},
   "source": [
    "# Example Program\n",
    "from docx import Document\n",
    "doc = Document()\n",
    "doc.add_paragraph('Hello, there!')\n",
    "doc.save('hello.docx')"
   ]
  },
  {
   "cell_type": "raw",
   "id": "c64dfcb4-c3a7-486a-bfbd-79b057957bba",
   "metadata": {},
   "source": [
    "12. What integers represent the levels of headings available in Word documents?"
   ]
  },
  {
   "cell_type": "markdown",
   "id": "009c7179-e86c-47e8-b057-0eb9c1a05507",
   "metadata": {},
   "source": [
    "Ans.\n",
    "The integer 0 makes the heading the Title style, which is used for the top of the document. Integers 1 to 4 are for various heading levels, with 1 being the main heading and 4 the lowest subheading."
   ]
  }
 ],
 "metadata": {
  "kernelspec": {
   "display_name": "Python 3 (ipykernel)",
   "language": "python",
   "name": "python3"
  },
  "language_info": {
   "codemirror_mode": {
    "name": "ipython",
    "version": 3
   },
   "file_extension": ".py",
   "mimetype": "text/x-python",
   "name": "python",
   "nbconvert_exporter": "python",
   "pygments_lexer": "ipython3",
   "version": "3.10.6"
  }
 },
 "nbformat": 4,
 "nbformat_minor": 5
}

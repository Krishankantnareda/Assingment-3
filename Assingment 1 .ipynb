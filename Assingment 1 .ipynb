{
 "cells": [
  {
   "cell_type": "raw",
   "id": "f746a23a-1967-42de-9c7a-c5aaa85ed49c",
   "metadata": {},
   "source": [
    "1. In the below elements which of them are values or an expression? eg:- values can be integer or string and expressions will be mathematical operators.\n",
    "* \n",
    "'hello'\n",
    "-87.8\n",
    "- \n",
    "/ \n",
    "+\t\n",
    "6 \n",
    "\n",
    "\n",
    "Ans 1.\n",
    "*       = Expression\n",
    "'hello' = Value\n",
    "-87.8   = Value\n",
    "-       = Expression\n",
    "/       = Expression\n",
    "+\t    = Expression\n",
    "6       = Value"
   ]
  },
  {
   "cell_type": "raw",
   "id": "d79c8ea0-f6bd-4ab8-8fbb-b23d19f4735c",
   "metadata": {},
   "source": [
    "2. What is the difference between string and variable?\n",
    "\n",
    "Ans 2. \n",
    "Variables are the symble that we can use to store the data in the program ,\n",
    "and String is a one of the data type\n",
    "so we can use them to fill up a variable\n"
   ]
  },
  {
   "cell_type": "raw",
   "id": "cea78995-ec87-48ce-917c-c9986eb249ce",
   "metadata": {},
   "source": [
    "3. Describe three different data types.\n",
    "Ans . in Python we have different types of data\n",
    "    1. Numeric Data :\n",
    "     numeric data type represent the data which has numeric value. Numeric value can be integer, floating number or even complex numbers. These values are defined as int, float and complex class in Python.\n",
    "    \n",
    "    2. Boolean:\n",
    "     Boolean Data type with one of the two built-in values, True or False. Boolean objects that are equal to True are truthy (true), and those equal to False are falsy (false)\n",
    "\n",
    "    3. Sequence Type:\n",
    "\n",
    "    In Python, sequence is the ordered collection of similar or different data types.\n",
    "    There are several sequence types in Python –\n",
    "    String\n",
    "    List\n",
    "    Tuple"
   ]
  },
  {
   "cell_type": "raw",
   "id": "8cba3378-9d88-4a93-9174-dbeb1266d3d4",
   "metadata": {},
   "source": [
    "4. What is an expression made up of? What do all expressions do?\n",
    "Ans 4.\n",
    "An expression is a combination of values, variables, operators, and calls to functions. The expression in Python produces some value or result after being interpreted by the Python interpreter. An expression in Python is a combination of operators and operands."
   ]
  },
  {
   "cell_type": "raw",
   "id": "0be1110a-5ec2-466c-a8d8-1449926a4c52",
   "metadata": {},
   "source": [
    "5. This assignment statements, like spam = 10. What is the difference between an expression and a statement?\n",
    "Ans 5. \n",
    "The Main Differences Between an Expression and a Statement in Programming. Expressions can be assigned or used as operands, while statements can only be declared. Statements create side effects to be useful, while expressions are values or execute to values"
   ]
  },
  {
   "cell_type": "raw",
   "id": "d5f3b19c-e478-465c-972a-f0dcacc64245",
   "metadata": {},
   "source": [
    "6. After running the following code, what does the variable bacon contain?\n",
    "bacon = 22\n",
    "bacon + 1\n",
    "Ans 6.\n",
    "after executing this code bacon cantain 22 value\n",
    "becouse we are only executing this bacon+1 \n",
    "it is not a permanent chenge into bacon variable\n",
    "to chenge it permanent we need to assin it into bacon variable"
   ]
  },
  {
   "cell_type": "raw",
   "id": "e2b5e692-1b91-4bc1-bfb9-2ae87ba3a75d",
   "metadata": {},
   "source": [
    "7. What should the values of the following two terms be?\n",
    "'spam' + 'spamspam'\n",
    "'spam' * 3\n",
    "Ans 7.\n",
    "\"spam\" + \"spamspam\" = 'spamspamspam'\n",
    "\"spam\" * 3 = 'spamspamspam'"
   ]
  },
  {
   "cell_type": "raw",
   "id": "f20ce135-a3f6-45d6-9816-b550ba171474",
   "metadata": {},
   "source": [
    "8. Why is eggs a valid variable name while 100 is invalid?\n",
    "Ans 8. \n",
    "becouse Variable Name can not contain any spaciel carector and \n",
    "       it can not start with the numbers"
   ]
  },
  {
   "cell_type": "raw",
   "id": "6c1a3a6f-4120-44d5-93e3-3ba72d61174b",
   "metadata": {},
   "source": [
    "9. What three functions can be used to get the integer, floating-point number, or string version of a value?\n",
    "Ans 9. \n",
    "Here is the function that we use to get the integer value from  any String value or any float value\n",
    "fuc = int(\"pass the data : what you want to convert to integer\")\n",
    "Here is the function that we use to get the floating-point number from  any String value or any integer value\n",
    "fuc = float(\"pass the value : what you want to convert to float\")\n",
    "Here is the function that we use to get the string from  any float value or any integer value\n",
    "fuc = str(\"pass any kind of data : what you want to convert to str\")"
   ]
  },
  {
   "cell_type": "raw",
   "id": "1ba492e8-4cc9-47a9-992b-87d580803f4e",
   "metadata": {},
   "source": [
    "10. Why does this expression cause an error? How can you fix it?\n",
    "'I have eaten ' + 99 + ' burritos.'\n",
    "Ans 10.\n",
    "'I have eaten ' + 99 + ' burritos.'\n",
    "if we execute this code than definatly we get TypeError becouse\n",
    "you can't concatinate str with the integer value\n",
    "to do this we need to convert 99  in a string like this \"99\"\n",
    "than only it will be execute without any Error\n"
   ]
  }
 ],
 "metadata": {
  "kernelspec": {
   "display_name": "Python 3 (ipykernel)",
   "language": "python",
   "name": "python3"
  },
  "language_info": {
   "codemirror_mode": {
    "name": "ipython",
    "version": 3
   },
   "file_extension": ".py",
   "mimetype": "text/x-python",
   "name": "python",
   "nbconvert_exporter": "python",
   "pygments_lexer": "ipython3",
   "version": "3.10.6"
  }
 },
 "nbformat": 4,
 "nbformat_minor": 5
}

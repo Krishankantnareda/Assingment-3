{
 "cells": [
  {
   "cell_type": "raw",
   "id": "8f01a983-5f40-448b-a921-8539b30a37e1",
   "metadata": {},
   "source": [
    "1. How do you distinguish between shutil.copy() and shutil.copytree()?"
   ]
  },
  {
   "cell_type": "markdown",
   "id": "3717c971-6b0e-4111-965d-c549d0983cf5",
   "metadata": {},
   "source": [
    "ANS->\n",
    "In Python, shutil.copy() is used to copy a single file, while shutil.copytree() is used to copy an entire directory tree (including all files and subdirectories)."
   ]
  },
  {
   "cell_type": "raw",
   "id": "fee17576-61e9-4d50-8ff4-646c8085107d",
   "metadata": {},
   "source": [
    "2. What function is used to rename files??"
   ]
  },
  {
   "cell_type": "markdown",
   "id": "c07c9540-4543-43bb-9617-e6efcb019cd5",
   "metadata": {},
   "source": [
    "ANS->\n",
    "In Python, the os.rename() function is used to rename files"
   ]
  },
  {
   "cell_type": "raw",
   "id": "ab9890c6-ba95-4184-aa74-7d69a9d7bb4c",
   "metadata": {},
   "source": [
    "3. What is the difference between the delete functions in the send2trash and shutil modules?"
   ]
  },
  {
   "cell_type": "markdown",
   "id": "fa5db476-8a4b-4bf5-877f-a1e5bf3f137b",
   "metadata": {},
   "source": [
    "ANS->\n",
    "In Python, the send2trash module sends files and folders to the recycle bin or trash instead of permanently deleting them. The shutil module’s rmtree() function permanently deletes files and folders."
   ]
  },
  {
   "cell_type": "raw",
   "id": "145ee439-4328-4085-96c1-8860032f7ded",
   "metadata": {},
   "source": [
    "4.ZipFile objects have a close() method just like File objects’ close() method. What ZipFile method is\n",
    "equivalent to File objects’ open() method?"
   ]
  },
  {
   "cell_type": "markdown",
   "id": "25e630b2-edc3-4da9-9319-6aa934197bde",
   "metadata": {},
   "source": [
    "ANS->\n",
    "The ZipFile method is equivalent to the open() method for file objects.\n",
    "The zipfile. ZipFile() function is equivalent to the open() function; the first argument is the filename, and the second argument is the mode to open the ZIP file in (read, write, or append)."
   ]
  },
  {
   "cell_type": "raw",
   "id": "ffbf6861-28ae-432c-8a76-bb944ff24ca1",
   "metadata": {},
   "source": [
    "5. Create a programme that searches a folder tree for files with a certain file extension (such as .pdf\n",
    "or .jpg). Copy these files from whatever location they are in to a new folder."
   ]
  },
  {
   "cell_type": "code",
   "execution_count": null,
   "id": "942eb47a-464e-46ce-8462-1630d90fabd9",
   "metadata": {},
   "outputs": [],
   "source": [
    "import os\n",
    "import shutil\n",
    "\n",
    "def copy_files(src_folder, dest_folder, ext):\n",
    "    for foldername, subfolders, filenames in os.walk(src_folder):\n",
    "        for filename in filenames:\n",
    "            if filename.endswith(ext):\n",
    "                shutil.copy(os.path.join(foldername, filename), dest_folder)\n",
    "\n",
    "src_folder = 'C:\\\\Users\\\\User\\\\Documents\\\\'\n",
    "dest_folder = 'C:\\\\Users\\\\User\\\\Documents\\\\New Folder\\\\'\n",
    "ext = '.pdf'"
   ]
  },
  {
   "cell_type": "markdown",
   "id": "79643a94-b2bc-409b-944d-dc96494ac744",
   "metadata": {},
   "source": [
    "copy_files(src_folder, dest_folder, ext)\n",
    "Copy\n",
    "In this example, the program searches the src_folder directory and its subdirectories for files with the .pdf extension. It then copies these files to the dest_folder directory.\n",
    "\n",
    "You can modify the src_folder, dest_folder, and ext variables to suit your needs."
   ]
  },
  {
   "cell_type": "code",
   "execution_count": null,
   "id": "1be25d30-829b-4326-9388-a83fc9949328",
   "metadata": {},
   "outputs": [],
   "source": []
  }
 ],
 "metadata": {
  "kernelspec": {
   "display_name": "Python 3 (ipykernel)",
   "language": "python",
   "name": "python3"
  },
  "language_info": {
   "codemirror_mode": {
    "name": "ipython",
    "version": 3
   },
   "file_extension": ".py",
   "mimetype": "text/x-python",
   "name": "python",
   "nbconvert_exporter": "python",
   "pygments_lexer": "ipython3",
   "version": "3.10.6"
  }
 },
 "nbformat": 4,
 "nbformat_minor": 5
}

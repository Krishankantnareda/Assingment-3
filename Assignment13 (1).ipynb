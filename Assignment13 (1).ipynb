{
 "cells": [
  {
   "cell_type": "raw",
   "id": "a93386ea-f7ff-474b-9335-3b8f40bf5a4e",
   "metadata": {},
   "source": [
    "1. What advantages do Excel spreadsheets have over CSV spreadsheets?"
   ]
  },
  {
   "cell_type": "markdown",
   "id": "2401d433-5b96-460f-980f-c5ffdae3cec5",
   "metadata": {},
   "source": [
    "Ans.\n",
    "Excel can perform VBA Coding, functions, formulas, and create summaries easily when compared to CSV. CSV cannot perform VBA Coding, functions, formulas, and create summaries easily when compared to Excel. Reading large data sets is much easier for the end-user to read, comprehend and understand when compared to CSV.\n",
    "\n",
    "It is a binary file that holds information about all the worksheets in a workbook\n",
    "\n",
    "An Excel not only stores data but can also do operations on the data\n",
    "\n",
    "Files saved in excel cannot be opened or edited by text editors\n",
    "\n",
    "large files user is much easier in Excel for the end user. Also, you can have additional functions like selecting \n",
    "individual cells for import, convert dates and time automatically, reading formulas and their results, filters, sorting, etc\n",
    "\n",
    "Apart from text, data can also be stored in form of charts and graphs\n",
    "\n",
    "Excel can connect to external data sources to fetch data. You can use custom add-in in Excel to increase its functionality.\n",
    "\n",
    "Excel allows for Review of Data with detailed tracking and commenting feature\n",
    "\n",
    "In Excel, spreadsheets can have values of data types other than strings; cells can have different fonts, sizes, or color settings; cells can have varying widths and heights; adjacent cells can be merged"
   ]
  },
  {
   "cell_type": "raw",
   "id": "a1a1ff15-5775-4b3e-8c11-27ac2c2c2d1d",
   "metadata": {},
   "source": [
    "2.What do you pass to csv.reader() and csv.writer() to create reader and writer objects?"
   ]
  },
  {
   "cell_type": "markdown",
   "id": "a9790db1-be4e-4c10-b7d4-69127a28568a",
   "metadata": {},
   "source": [
    "Ans.\n",
    "Writing CSV files Using csv.\n",
    "writer() function. The csv. writer() function returns a writer object that converts the user's data into a delimited string. This string can later be used to write into CSV files using the writerow() function."
   ]
  },
  {
   "cell_type": "raw",
   "id": "6630aac8-6ef5-4486-9bc9-add5b4930897",
   "metadata": {},
   "source": [
    "3. What modes do File objects for reader and writer objects need to be opened in?"
   ]
  },
  {
   "cell_type": "markdown",
   "id": "c80a56a6-f207-48ec-9f77-22135fcc0431",
   "metadata": {},
   "source": [
    "Ans.\n",
    "\n",
    "Mode\tDescription\n",
    "‘r’\tOpen a file for reading. (default)\n",
    "‘w’\tOpen a file for writing. Creates a new file if it does not exist or truncates the file if it exists.\n",
    "‘+’\tOpen a file for updating (reading and writing)"
   ]
  },
  {
   "cell_type": "raw",
   "id": "6579ad7f-078c-45c9-9e26-18c32b1e248a",
   "metadata": {},
   "source": [
    "4. What method takes a list argument and writes it to a CSV file?"
   ]
  },
  {
   "cell_type": "markdown",
   "id": "2fdb0383-4b56-4970-9337-0615c72c8a6b",
   "metadata": {},
   "source": [
    "Ans.  writerow()\n",
    "The most common method to write data from a list to CSV file is the writerow() method of writer and DictWriter class."
   ]
  },
  {
   "cell_type": "raw",
   "id": "5fdbac90-a6fd-4280-9b3d-0969f5675a4f",
   "metadata": {},
   "source": [
    "5. What do the keyword arguments delimiter and line terminator do?"
   ]
  },
  {
   "cell_type": "markdown",
   "id": "507fd55c-32d4-4cb9-b1a1-30ea104705e9",
   "metadata": {},
   "source": [
    "Ans.\n",
    "The delimiter and lineterminator Keyword Arguments\n",
    "This changes the delimiter and line terminator characters in your file. The delimiter is the character that appears between cells on a row. By default, the delimiter for a CSV file is a comma. The line terminator is the character that comes at the end of a row."
   ]
  },
  {
   "cell_type": "raw",
   "id": "297cc30c-8cb3-420a-bd1c-0bce52847b7f",
   "metadata": {},
   "source": [
    "6. What function takes a string of JSON data and returns a Python data structure?"
   ]
  },
  {
   "cell_type": "markdown",
   "id": "968d8cc3-8185-4f2e-970f-07bf0b4439bd",
   "metadata": {},
   "source": [
    "Ans.       Using json.load()\n",
    "We use the json. loads() method to parse a JSON string and return a Python object such as a dictionary. The json. loads() method takes the file contents as a string."
   ]
  },
  {
   "cell_type": "raw",
   "id": "720308bf-7616-4355-b420-6b30531646be",
   "metadata": {},
   "source": [
    "7. What function takes a Python data structure and returns a string of JSON data?"
   ]
  },
  {
   "cell_type": "markdown",
   "id": "930cc3a3-264c-433f-a889-6d7a5d382f6a",
   "metadata": {},
   "source": [
    "Ans.      json.dumps()\n",
    "If you have a Python object, you can convert it into a JSON string by using the json.dumps() method."
   ]
  }
 ],
 "metadata": {
  "kernelspec": {
   "display_name": "Python 3 (ipykernel)",
   "language": "python",
   "name": "python3"
  },
  "language_info": {
   "codemirror_mode": {
    "name": "ipython",
    "version": 3
   },
   "file_extension": ".py",
   "mimetype": "text/x-python",
   "name": "python",
   "nbconvert_exporter": "python",
   "pygments_lexer": "ipython3",
   "version": "3.10.6"
  }
 },
 "nbformat": 4,
 "nbformat_minor": 5
}

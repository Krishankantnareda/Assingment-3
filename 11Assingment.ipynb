{
 "cells": [
  {
   "cell_type": "raw",
   "id": "c345091e-488a-4f05-ab2b-ca3ea94e991a",
   "metadata": {},
   "source": [
    "1. Create an assert statement that throws an AssertionError if the variable spam is a negative\n",
    "integer."
   ]
  },
  {
   "cell_type": "code",
   "execution_count": 1,
   "id": "17829635-c1d5-4b9c-9efd-805058c7a20f",
   "metadata": {},
   "outputs": [
    {
     "ename": "AssertionError",
     "evalue": "Spam should be equal to or grater than 0",
     "output_type": "error",
     "traceback": [
      "\u001b[0;31m---------------------------------------------------------------------------\u001b[0m",
      "\u001b[0;31mAssertionError\u001b[0m                            Traceback (most recent call last)",
      "Cell \u001b[0;32mIn [1], line 2\u001b[0m\n\u001b[1;32m      1\u001b[0m spam \u001b[38;5;241m=\u001b[39m \u001b[38;5;241m-\u001b[39m\u001b[38;5;241m2\u001b[39m\n\u001b[0;32m----> 2\u001b[0m \u001b[38;5;28;01massert\u001b[39;00m spam\u001b[38;5;241m>\u001b[39m\u001b[38;5;241m=\u001b[39m\u001b[38;5;241m0\u001b[39m , \u001b[38;5;124m\"\u001b[39m\u001b[38;5;124mSpam should be equal to or grater than 0\u001b[39m\u001b[38;5;124m\"\u001b[39m\n",
      "\u001b[0;31mAssertionError\u001b[0m: Spam should be equal to or grater than 0"
     ]
    }
   ],
   "source": [
    "spam = -2\n",
    "assert spam>=0 , \"Spam should be equal to or grater than 0\""
   ]
  },
  {
   "cell_type": "raw",
   "id": "44cd52f0-a2d2-4584-88e2-b44aadb0d640",
   "metadata": {},
   "source": [
    "2. Write an assert statement that triggers an AssertionError if the variables eggs and bacon contain\n",
    "strings that are the same as each other, even if their cases are different (that is, \"hello\" and \"hello\" are\n",
    "considered the same, and \"goodbye\" and \"GOODbye\" are also considered the same)."
   ]
  },
  {
   "cell_type": "code",
   "execution_count": 2,
   "id": "24a09769-a6a7-448a-a3eb-5e3f20775edd",
   "metadata": {},
   "outputs": [
    {
     "ename": "AssertionError",
     "evalue": "eggs and bacon must be different",
     "output_type": "error",
     "traceback": [
      "\u001b[0;31m---------------------------------------------------------------------------\u001b[0m",
      "\u001b[0;31mAssertionError\u001b[0m                            Traceback (most recent call last)",
      "Cell \u001b[0;32mIn [2], line 3\u001b[0m\n\u001b[1;32m      1\u001b[0m eggs \u001b[38;5;241m=\u001b[39m \u001b[38;5;124m\"\u001b[39m\u001b[38;5;124mGOODbye\u001b[39m\u001b[38;5;124m\"\u001b[39m\n\u001b[1;32m      2\u001b[0m bacon \u001b[38;5;241m=\u001b[39m \u001b[38;5;124m\"\u001b[39m\u001b[38;5;124mgoodbye\u001b[39m\u001b[38;5;124m\"\u001b[39m\n\u001b[0;32m----> 3\u001b[0m \u001b[38;5;28;01massert\u001b[39;00m eggs\u001b[38;5;241m.\u001b[39mlower() \u001b[38;5;241m!=\u001b[39m bacon\u001b[38;5;241m.\u001b[39mlower(), \u001b[38;5;124m'\u001b[39m\u001b[38;5;124meggs and bacon must be different\u001b[39m\u001b[38;5;124m'\u001b[39m\n",
      "\u001b[0;31mAssertionError\u001b[0m: eggs and bacon must be different"
     ]
    }
   ],
   "source": [
    "eggs = \"GOODbye\"\n",
    "bacon = \"goodbye\"\n",
    "assert eggs.lower() != bacon.lower(), 'eggs and bacon must be different'"
   ]
  },
  {
   "cell_type": "code",
   "execution_count": 3,
   "id": "f078ba6d-530c-47f0-9d0c-2602a17d593a",
   "metadata": {},
   "outputs": [
    {
     "ename": "AssertionError",
     "evalue": "eggs and bacon must be different",
     "output_type": "error",
     "traceback": [
      "\u001b[0;31m---------------------------------------------------------------------------\u001b[0m",
      "\u001b[0;31mAssertionError\u001b[0m                            Traceback (most recent call last)",
      "Cell \u001b[0;32mIn [3], line 3\u001b[0m\n\u001b[1;32m      1\u001b[0m eggs \u001b[38;5;241m=\u001b[39m \u001b[38;5;124m\"\u001b[39m\u001b[38;5;124mhello\u001b[39m\u001b[38;5;124m\"\u001b[39m\n\u001b[1;32m      2\u001b[0m bacon \u001b[38;5;241m=\u001b[39m \u001b[38;5;124m\"\u001b[39m\u001b[38;5;124mhello\u001b[39m\u001b[38;5;124m\"\u001b[39m\n\u001b[0;32m----> 3\u001b[0m \u001b[38;5;28;01massert\u001b[39;00m eggs\u001b[38;5;241m.\u001b[39mlower() \u001b[38;5;241m!=\u001b[39m bacon\u001b[38;5;241m.\u001b[39mlower(), \u001b[38;5;124m'\u001b[39m\u001b[38;5;124meggs and bacon must be different\u001b[39m\u001b[38;5;124m'\u001b[39m\n",
      "\u001b[0;31mAssertionError\u001b[0m: eggs and bacon must be different"
     ]
    }
   ],
   "source": [
    "eggs = \"hello\"\n",
    "bacon = \"hello\"\n",
    "assert eggs.lower() != bacon.lower(), 'eggs and bacon must be different'"
   ]
  },
  {
   "cell_type": "raw",
   "id": "f2684bb7-7066-491c-b570-be4b87952540",
   "metadata": {},
   "source": [
    "3. Create an assert statement that throws an AssertionError every time."
   ]
  },
  {
   "cell_type": "code",
   "execution_count": 4,
   "id": "3a81f9dd-4ab3-4808-96e6-fe0942f691de",
   "metadata": {},
   "outputs": [
    {
     "ename": "AssertionError",
     "evalue": "this assertion always fails",
     "output_type": "error",
     "traceback": [
      "\u001b[0;31m---------------------------------------------------------------------------\u001b[0m",
      "\u001b[0;31mAssertionError\u001b[0m                            Traceback (most recent call last)",
      "Cell \u001b[0;32mIn [4], line 1\u001b[0m\n\u001b[0;32m----> 1\u001b[0m \u001b[38;5;28;01massert\u001b[39;00m \u001b[38;5;28;01mFalse\u001b[39;00m, \u001b[38;5;124m'\u001b[39m\u001b[38;5;124mthis assertion always fails\u001b[39m\u001b[38;5;124m'\u001b[39m\n",
      "\u001b[0;31mAssertionError\u001b[0m: this assertion always fails"
     ]
    }
   ],
   "source": [
    "assert False, 'this assertion always fails'"
   ]
  },
  {
   "cell_type": "raw",
   "id": "90269680-bd19-4875-9d37-e5c0986081da",
   "metadata": {},
   "source": [
    "4. What are the two lines that must be present in your software in order to call logging.debug()?"
   ]
  },
  {
   "cell_type": "code",
   "execution_count": 5,
   "id": "0f784acb-da18-455f-90a9-3528a62fb7ef",
   "metadata": {},
   "outputs": [],
   "source": [
    "import logging\n",
    "logging.basicConfig(level=logging.DEBUG, format='%(asctime)s - %(levelname)s - %(message)s')"
   ]
  },
  {
   "cell_type": "raw",
   "id": "d75a397e-03f0-460c-bcf0-09a4aade5548",
   "metadata": {},
   "source": [
    "5. What are the two lines that your program must have in order to have logging.debug() send a\n",
    "logging message to a file named programLog.txt?"
   ]
  },
  {
   "cell_type": "code",
   "execution_count": 6,
   "id": "f1a8feed-4f9e-4b8f-bacb-976bdc09e1b7",
   "metadata": {},
   "outputs": [],
   "source": [
    "import logging\n",
    "logging.basicConfig(filename='programLog.txt', level=logging.DEBUG, format='%(asctime)s - %(levelname)s - %(message)s')"
   ]
  },
  {
   "cell_type": "raw",
   "id": "363dfdb8-6d31-41f7-bcdf-5d15a42a2783",
   "metadata": {},
   "source": [
    "6. What are the five levels of logging?"
   ]
  },
  {
   "cell_type": "markdown",
   "id": "411ea83c-95d1-4643-9981-29ed21bcfea2",
   "metadata": {},
   "source": [
    "The five levels of logging are:\n",
    "\n",
    "DEBUG: Detailed information, typically of interest only when diagnosing problems.\n",
    "INFO: Confirmation that things are working as expected.\n",
    "WARNING: An indication that something unexpected happened or indicative of some problem in the near future (e.g., ‘disk space low’). The software is still working as expected.\n",
    "ERROR: Due to a more serious problem, the software has not been able to perform some function.\n",
    "CRITICAL: A very serious error, indicating that the program itself may be unable to continue running"
   ]
  },
  {
   "cell_type": "raw",
   "id": "11f140b8-8bb9-4bfc-8f00-6c63eda84c42",
   "metadata": {},
   "source": [
    "7. What line of code would you add to your software to disable all logging messages?"
   ]
  },
  {
   "cell_type": "markdown",
   "id": "ff1e26da-f7ae-4412-9895-3c685877ce95",
   "metadata": {},
   "source": [
    "To disable all logging messages in Python, you can use the logging.disable() function. This function disables all logging calls which are at level CRITICAL or below. Effectively this disables all logging calls. You can enable the logging for all loggers again (at their own logging levels) by doing: logging.disable(logging.NOTSET)"
   ]
  },
  {
   "cell_type": "raw",
   "id": "b87ac428-0682-465e-8354-81b11dc29e94",
   "metadata": {},
   "source": [
    "8.Why is using logging messages better than using print() to display the same message?"
   ]
  },
  {
   "cell_type": "markdown",
   "id": "458b06c2-6a9f-4560-95ee-c17dc3797910",
   "metadata": {},
   "source": [
    "ANS->\n",
    "Logging is better than using print() to display the same message because it has different levels of severity that allows you to display log messages according to the level you want. A print statement does not give you that flexibility. Logging allows you to direct the log messages to separate files that can then be used for post analysis while the same is not easily available with print statement."
   ]
  },
  {
   "cell_type": "raw",
   "id": "b2582822-fa35-4995-be16-7b2b156d241f",
   "metadata": {},
   "source": [
    "9. What are the differences between the Step Over, Step In, and Step Out buttons in the debugger?"
   ]
  },
  {
   "cell_type": "markdown",
   "id": "3575b606-36f8-448c-9c15-fdfbc1884a35",
   "metadata": {},
   "source": [
    "The Step Over button is used to execute the current line of code and move to the next line of code in the current function. If the current line of code calls another function, that function will be executed in its entirety before returning to the next line of code in the current function.\n",
    "\n",
    "The Step In button is used to execute the current line of code and move into any function calls on that line. If there are no function calls on that line, it behaves like Step Over.\n",
    "\n",
    "The Step Out button is used to execute lines of code until you return from the current function. It will execute any remaining lines of code in the current function and then return to the calling function."
   ]
  },
  {
   "cell_type": "raw",
   "id": "6b4d9fdf-f207-457c-9163-0832158c21fb",
   "metadata": {},
   "source": [
    "10.After you click Continue, when will the debugger stop ?"
   ]
  },
  {
   "cell_type": "code",
   "execution_count": null,
   "id": "17e62984-e2df-421d-b905-292935e52acb",
   "metadata": {},
   "outputs": [],
   "source": [
    "Ans"
   ]
  },
  {
   "cell_type": "raw",
   "id": "42e4b942-fce9-44b6-9081-fd3d61f9c496",
   "metadata": {},
   "source": [
    "11. What is the concept of a breakpoint?"
   ]
  }
 ],
 "metadata": {
  "kernelspec": {
   "display_name": "Python 3 (ipykernel)",
   "language": "python",
   "name": "python3"
  },
  "language_info": {
   "codemirror_mode": {
    "name": "ipython",
    "version": 3
   },
   "file_extension": ".py",
   "mimetype": "text/x-python",
   "name": "python",
   "nbconvert_exporter": "python",
   "pygments_lexer": "ipython3",
   "version": "3.10.6"
  }
 },
 "nbformat": 4,
 "nbformat_minor": 5
}
